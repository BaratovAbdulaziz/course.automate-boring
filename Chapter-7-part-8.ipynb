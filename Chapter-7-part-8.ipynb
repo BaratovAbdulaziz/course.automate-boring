{
 "cells": [
  {
   "cell_type": "markdown",
   "id": "897ea59e",
   "metadata": {},
   "source": [
    "<span style=\"color:red; font-size:75px\">Regular expresions</span>"
   ]
  },
  {
   "cell_type": "markdown",
   "id": "130b5923",
   "metadata": {},
   "source": [
    "<h1 align=\"center\" style=\"color:orange; font-size:50px;\">without</h1>"
   ]
  },
  {
   "cell_type": "code",
   "execution_count": null,
   "id": "667e3904",
   "metadata": {},
   "outputs": [
    {
     "name": "stdout",
     "output_type": "stream",
     "text": [
      "processing...\n",
      "+998-94-044-20-0\n"
     ]
    }
   ],
   "source": [
    "# number = input()\n",
    "# for i in number:\n",
    "#     if i.isdigit() or i == \"-\" and (len(number) == 12 or len(number) == 9):\n",
    "#         print(\"processing...\")\n",
    "#         if len(number) == 12:\n",
    "#             true_number = \"-\" in number\n",
    "#             if true_number == True:\n",
    "#                 print(\"correct\")\n",
    "#             elif true_number == False:\n",
    "#                 print(\"incorrect\")\n",
    "#         elif len(number) == 9:\n",
    "#             s = number.isdecimal()\n",
    "#             if s == True:\n",
    "#                 print(f\"+998-{number[0:2]}-{number[2:5]}-{number[6:8]}-{number[8:]}\")\n",
    "#             else:\n",
    "#                 print(\"incorrect\")\n",
    "#         else:\n",
    "#             print(\"incorrect\")\n",
    "#         break\n",
    "#     else:\n",
    "#         print(\"incorrect\")\n",
    "#         break\n"
   ]
  },
  {
   "cell_type": "code",
   "execution_count": null,
   "id": "89faea64",
   "metadata": {},
   "outputs": [
    {
     "name": "stdout",
     "output_type": "stream",
     "text": [
      "processing...\n",
      "+998-94-044-12-00\n"
     ]
    }
   ],
   "source": [
    "# # chat gpt\n",
    "# number = input()\n",
    "# for i in number:\n",
    "#     if (i.isdigit() or i == \"-\") and (len(number) == 12 or len(number) == 9):\n",
    "#         print(\"processing...\")\n",
    "#         if len(number) == 12:\n",
    "#             true_number = \"-\" in number\n",
    "#             if true_number:\n",
    "#                 print(\"correct\")\n",
    "#             else:\n",
    "#                 print(\"incorrect\")\n",
    "#         elif len(number) == 9:\n",
    "#             s = number.isdecimal()\n",
    "#             if s:\n",
    "#                 print(f\"+998-{number[0:2]}-{number[2:5]}-{number[5:7]}-{number[7:]}\")\n",
    "#             else:\n",
    "#                 print(\"incorrect\")\n",
    "#         else:\n",
    "#             print(\"incorrect\")\n",
    "#         break\n",
    "#     else:\n",
    "#         print(\"incorrect\")\n",
    "#         break\n"
   ]
  },
  {
   "cell_type": "markdown",
   "id": "fdb1d2fc",
   "metadata": {
    "vscode": {
     "languageId": "sql"
    }
   },
   "source": [
    "<h1 align=\"center\" style=\"color:green; font-size:75px\">With<h1>"
   ]
  },
  {
   "cell_type": "code",
   "execution_count": null,
   "id": "4f6b1814",
   "metadata": {},
   "outputs": [
    {
     "name": "stdout",
     "output_type": "stream",
     "text": [
      "998-94-044-12-00\n"
     ]
    }
   ],
   "source": [
    "# import re\n",
    "# number = re.compile(r\"\\d\\d\\d-\\d\\d-\\d\\d\\d-\\d\\d-\\d\\d\")\n",
    "# mo = number.search(\"my number is: 998-94-044-12-00\")\n",
    "# print(mo.group())"
   ]
  },
  {
   "cell_type": "code",
   "execution_count": null,
   "id": "88196720",
   "metadata": {},
   "outputs": [
    {
     "name": "stdout",
     "output_type": "stream",
     "text": [
      " 12-23-2006\n"
     ]
    }
   ],
   "source": [
    "# import re\n",
    "# # we can use \"|\" to give conditions in not regular expression we would use \"or\" method\n",
    "# Date_templates = re.compile(r\"(\\d\\d)-(\\d\\d)-(\\d\\d\\d\\d) |(\\d\\d\\d\\d)-(\\d\\d)-(\\d\\d) | (\\d\\d)-(\\d\\d)-(\\d\\d\\d\\d)\")\n",
    "# mo = Date_templates.search(\"my date of birth is in 12-23-2006\" )\n",
    "# print(mo.group())"
   ]
  },
  {
   "cell_type": "code",
   "execution_count": null,
   "id": "e9a75416",
   "metadata": {},
   "outputs": [
    {
     "name": "stdout",
     "output_type": "stream",
     "text": [
      "disagree\n"
     ]
    }
   ],
   "source": [
    "# #\"()?\"--->used to represent optional meaning\n",
    "# import re\n",
    "# option = re.compile(r\"(dis)?agree\")\n",
    "# mo = option.search(\"my coding skills were disagree that learning 2 languages were a bad idea and I drop no needed one\")\n",
    "# print(mo.group())"
   ]
  },
  {
   "cell_type": "code",
   "execution_count": null,
   "id": "5ca9dbfa",
   "metadata": {},
   "outputs": [
    {
     "name": "stdout",
     "output_type": "stream",
     "text": [
      "shuuuuuuuuuuuuuuuuuuuuuuuuuuuuuuuuuuuuuuuuuuuuuuuuuuuuuuuuuuuuuuuuuuuuuuut up\n"
     ]
    }
   ],
   "source": [
    "# #\"()*\" the same as before but it can find if certain part is repeating\n",
    "# import re\n",
    "# relax = re.compile(r\"sh(u)*t up\")\n",
    "# mo =relax.search(\"shuuuuuuuuuuuuuuuuuuuuuuuuuuuuuuuuuuuuuuuuuuuuuuuuuuuuuuuuuuuuuuuuuuuuuuut up freaking game\")\n",
    "# print(mo.group())"
   ]
  },
  {
   "cell_type": "code",
   "execution_count": null,
   "id": "ce9525a4",
   "metadata": {},
   "outputs": [
    {
     "name": "stdout",
     "output_type": "stream",
     "text": [
      "sun sun sun \n"
     ]
    }
   ],
   "source": [
    "# #\"(){specific number}\"\n",
    "# import re\n",
    "# relax = re.compile(r\"(sun ){3}\")\n",
    "# me = relax.search(r'''The sun sun sun  was setting behind the mountains, casting a golden glow over the valley. Birds flew across the sky, and the sound of leaves rustling in the wind created a peaceful atmosphere. It was the perfect moment to reflect and enjoy the beauty of nature.\n",
    "# ''')\n",
    "# print(me.group())"
   ]
  },
  {
   "cell_type": "code",
   "execution_count": null,
   "id": "e0ebd146",
   "metadata": {},
   "outputs": [
    {
     "name": "stdout",
     "output_type": "stream",
     "text": [
      "a\n"
     ]
    }
   ],
   "source": [
    "# #syntax \"(){a,b}\" it can find specific word /letter repeated from a times up tu b times or in between\n",
    "# import re\n",
    "# con = re.compile(r'(a){0,3}')\n",
    "# mp = con.search(\"a aaa aa aaaaa aaaaaaa \")\n",
    "# print(mp.group())"
   ]
  },
  {
   "cell_type": "code",
   "execution_count": 33,
   "id": "4fcf636a",
   "metadata": {},
   "outputs": [
    {
     "name": "stdout",
     "output_type": "stream",
     "text": [
      "['understanding', 'misunderstanding']\n"
     ]
    }
   ],
   "source": [
    "#syntax we use .FINDALL(\"finding all matching values\")\n",
    "import re\n",
    "number = re.compile(r\"(?:mis)?understanding\")\n",
    "mo =number.findall(\"we  had good understanding or misunderstanding\")\n",
    "print(mo)\n"
   ]
  },
  {
   "cell_type": "code",
   "execution_count": 35,
   "id": "0eccc62a",
   "metadata": {},
   "outputs": [
    {
     "name": "stdout",
     "output_type": "stream",
     "text": [
      "6\n"
     ]
    }
   ],
   "source": [
    "#explaining\n",
    "global_variable = 0\n",
    "def local_variable():\n",
    "    local_variable = 1\n",
    "    global global_variable\n",
    "    global_variable = 6\n",
    "    print(global_variable)\n",
    "local_variable()\n"
   ]
  },
  {
   "cell_type": "code",
   "execution_count": null,
   "id": "567814ae",
   "metadata": {},
   "outputs": [],
   "source": []
  }
 ],
 "metadata": {
  "kernelspec": {
   "display_name": "base",
   "language": "python",
   "name": "python3"
  },
  "language_info": {
   "codemirror_mode": {
    "name": "ipython",
    "version": 3
   },
   "file_extension": ".py",
   "mimetype": "text/x-python",
   "name": "python",
   "nbconvert_exporter": "python",
   "pygments_lexer": "ipython3",
   "version": "3.12.9"
  }
 },
 "nbformat": 4,
 "nbformat_minor": 5
}
