{
 "cells": [
  {
   "cell_type": "markdown",
   "id": "897ea59e",
   "metadata": {},
   "source": [
    "<span style=\"color:red;\">regular expresions</span>"
   ]
  },
  {
   "cell_type": "markdown",
   "id": "18efc804",
   "metadata": {},
   "source": []
  }
 ],
 "metadata": {
  "language_info": {
   "name": "python"
  }
 },
 "nbformat": 4,
 "nbformat_minor": 5
}
