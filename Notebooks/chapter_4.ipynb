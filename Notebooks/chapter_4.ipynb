{
 "cells": [
  {
   "cell_type": "markdown",
   "id": "1b1a2ffa",
   "metadata": {},
   "source": [
    "<h1 align=\"center\" style=\"color:gold; font-size:75px;\"> function flow</h1>"
   ]
  },
  {
   "cell_type": "code",
   "execution_count": 1,
   "id": "a0d74989",
   "metadata": {},
   "outputs": [
    {
     "name": "stdout",
     "output_type": "stream",
     "text": [
      "function_1() starts\n",
      "function_2() starts\n",
      "function_3() starts\n",
      "function_3() returns\n",
      "function_2() returns\n",
      "function_3() starts\n",
      "function_3() returns\n",
      "function_1() returns\n"
     ]
    }
   ],
   "source": [
    "def function_1():\n",
    "    print(\"function_1() starts\")\n",
    "    function_2()\n",
    "    function_3()\n",
    "    print (\"function_1() returns\")\n",
    "def function_2():\n",
    "    print(\"function_2() starts\")\n",
    "    function_3()\n",
    "    print(\"function_2() returns\")\n",
    "def function_3():\n",
    "    print(\"function_3() starts\")\n",
    "    print(\"function_3() returns\")\n",
    "function_1()"
   ]
  },
  {
   "cell_type": "markdown",
   "id": "d0329e8a",
   "metadata": {},
   "source": [
    "# GLOBAL AND LOCAL SCOPES"
   ]
  },
  {
   "cell_type": "code",
   "execution_count": 2,
   "id": "9ad375e2",
   "metadata": {},
   "outputs": [
    {
     "ename": "NameError",
     "evalue": "name 'local_variable1' is not defined",
     "output_type": "error",
     "traceback": [
      "\u001b[31m---------------------------------------------------------------------------\u001b[39m",
      "\u001b[31mNameError\u001b[39m                                 Traceback (most recent call last)",
      "\u001b[36mCell\u001b[39m\u001b[36m \u001b[39m\u001b[32mIn[2]\u001b[39m\u001b[32m, line 5\u001b[39m\n\u001b[32m      3\u001b[39m     local_variable2= \u001b[33m\"\u001b[39m\u001b[33mhelp\u001b[39m\u001b[33m\"\u001b[39m\n\u001b[32m      4\u001b[39m language()\n\u001b[32m----> \u001b[39m\u001b[32m5\u001b[39m \u001b[38;5;28mprint\u001b[39m(\u001b[43mlocal_variable1\u001b[49m)\n\u001b[32m      6\u001b[39m \u001b[38;5;28mprint\u001b[39m(local_variable2)\n\u001b[32m      7\u001b[39m \u001b[38;5;66;03m# This will raise a NameError because local-v_and local_v2 are not defined in the global scope\u001b[39;00m\n\u001b[32m      8\u001b[39m \u001b[38;5;66;03m#no \"-\" in the variable it is not accepted\u001b[39;00m\n",
      "\u001b[31mNameError\u001b[39m: name 'local_variable1' is not defined"
     ]
    }
   ],
   "source": [
    "def language ():\n",
    "    local_variable1= 1.3\n",
    "    local_variable2= \"help\"\n",
    "language()\n",
    "print(local_variable1)\n",
    "print(local_variable2)\n",
    "# This will raise a NameError because local-v_and local_v2 are not defined in the global scope\n",
    "#no \"-\" in the variable it is not accepted"
   ]
  },
  {
   "cell_type": "code",
   "execution_count": 10,
   "id": "62eb82e9",
   "metadata": {},
   "outputs": [
    {
     "name": "stdout",
     "output_type": "stream",
     "text": [
      "Counter in increment(): 1\n",
      "Counter in decrement(): 0\n",
      "Counter in increment(): 1\n",
      "Final counter value: 1\n"
     ]
    }
   ],
   "source": [
    "# Global variable\n",
    "counter = 0\n",
    "\n",
    "def increment():\n",
    "    global counter\n",
    "    counter += 1\n",
    "    print(f\"Counter in increment(): {counter}\")\n",
    "\n",
    "def decrement():\n",
    "    global counter\n",
    "    counter -= 1\n",
    "    print(f\"Counter in decrement(): {counter}\")\n",
    "\n",
    "# Simultaneous calls to functions\n",
    "increment()\n",
    "decrement()\n",
    "increment()\n",
    "\n",
    "# The global variable 'counter' is modified by both functions, making it hard to track changes.\n",
    "print(f\"Final counter value: {counter}\")"
   ]
  },
  {
   "cell_type": "markdown",
   "id": "023ed111",
   "metadata": {},
   "source": [
    "# 1st Project Timeline\n",
    "\n",
    "## Overview\n",
    "This section outlines the timeline and key milestones for the first project. It provides a structured approach to track progress and ensure timely delivery.\n",
    "\n",
    "## Key Milestones\n",
    "1. **Project Initiation**  \n",
    "    - Define objectives and scope.\n",
    "    - Assign roles and responsibilities.\n",
    "\n",
    "2. **Planning Phase**  \n",
    "    - Develop a detailed project plan.\n",
    "    - Identify risks and mitigation strategies.\n",
    "\n",
    "3. **Execution Phase**  \n",
    "    - Implement the planned activities.\n",
    "    - Monitor progress and address issues.\n",
    "\n",
    "4. **Testing and Quality Assurance**  \n",
    "    - Conduct thorough testing.\n",
    "    - Ensure deliverables meet quality standards.\n",
    "\n",
    "5. **Project Closure**  \n",
    "    - Finalize documentation.\n",
    "    - Conduct a retrospective to identify lessons learned.\n",
    "\n",
    "## Notes\n",
    "- Current progress is tracked using the global variable `counter`, which is currently set to **1**.\n",
    "- Ensure all team members are aligned with the timeline and deliverables."
   ]
  },
  {
   "cell_type": "code",
   "execution_count": null,
   "id": "f84d54f4",
   "metadata": {},
   "outputs": [
    {
     "name": "stdout",
     "output_type": "stream",
     "text": [
      "Collecting keyboard\n",
      "  Downloading keyboard-0.13.5-py3-none-any.whl.metadata (4.0 kB)\n",
      "Downloading keyboard-0.13.5-py3-none-any.whl (58 kB)\n",
      "Installing collected packages: keyboard\n",
      "Successfully installed keyboard-0.13.5\n",
      "Note: you may need to restart the kernel to use updated packages.\n",
      "7\n",
      "\u001b[H\u001b[2J8\n",
      "\u001b[H\u001b[2J9\n",
      "\u001b[H\u001b[2J10\n",
      "\u001b[H\u001b[2J11\n",
      "\u001b[H\u001b[2J12\n",
      "\u001b[H\u001b[2J13\n",
      "\u001b[H\u001b[2J14\n"
     ]
    },
    {
     "ename": "KeyboardInterrupt",
     "evalue": "",
     "output_type": "error",
     "traceback": [
      "\u001b[31m---------------------------------------------------------------------------\u001b[39m",
      "\u001b[31mKeyboardInterrupt\u001b[39m                         Traceback (most recent call last)",
      "\u001b[36mCell\u001b[39m\u001b[36m \u001b[39m\u001b[32mIn[2]\u001b[39m\u001b[32m, line 9\u001b[39m\n\u001b[32m      7\u001b[39m count += \u001b[32m1\u001b[39m\n\u001b[32m      8\u001b[39m \u001b[38;5;28mprint\u001b[39m(count)\n\u001b[32m----> \u001b[39m\u001b[32m9\u001b[39m \u001b[43mtime\u001b[49m\u001b[43m.\u001b[49m\u001b[43msleep\u001b[49m\u001b[43m(\u001b[49m\u001b[32;43m1\u001b[39;49m\u001b[43m)\u001b[49m  \u001b[38;5;66;03m# Add a 1-second delay\u001b[39;00m\n\u001b[32m     10\u001b[39m os.system(\u001b[33m\"\u001b[39m\u001b[33mclear\u001b[39m\u001b[33m\"\u001b[39m)\n",
      "\u001b[31mKeyboardInterrupt\u001b[39m: "
     ]
    }
   ],
   "source": [
    "%pip install keyboard\n",
    "import os, time, keyboard\n",
    "\n",
    "count = 6  # Use the existing variable value\n",
    "while True:\n",
    "    count += 1\n",
    "    print(count)\n",
    "    time.sleep(1)  # Add a 1-second delay\n",
    "    os.system(\"clear\")\n"
   ]
  },
  {
   "cell_type": "code",
   "execution_count": null,
   "id": "634b79f3",
   "metadata": {},
   "outputs": [
    {
     "name": "stdout",
     "output_type": "stream",
     "text": [
      "3\n"
     ]
    }
   ],
   "source": [
    "#we can change the value of global variable in the function by using global keyword\n",
    "#we can also use nonlocal keyword to change the value of variable in the nested function\n",
    "example1 = 1\n",
    "example2 = 2\n",
    "def spam():\n",
    "    global example1\n",
    "    example1 = 3\n",
    "    print(example1)\n",
    "spam()"
   ]
  },
  {
   "cell_type": "code",
   "execution_count": 5,
   "id": "94b4c60b",
   "metadata": {},
   "outputs": [
    {
     "name": "stdout",
     "output_type": "stream",
     "text": [
      "4\n"
     ]
    }
   ],
   "source": [
    "def me():\n",
    "    example3 = 0\n",
    "    def eggs():\n",
    "        nonlocal example3\n",
    "        example3 = 4\n",
    "        print(example3)\n",
    "    eggs()\n",
    "me()"
   ]
  },
  {
   "cell_type": "code",
   "execution_count": null,
   "id": "aa5a86e9",
   "metadata": {},
   "outputs": [],
   "source": []
  }
 ],
 "metadata": {
  "kernelspec": {
   "display_name": "base",
   "language": "python",
   "name": "python3"
  },
  "language_info": {
   "codemirror_mode": {
    "name": "ipython",
    "version": 3
   },
   "file_extension": ".py",
   "mimetype": "text/x-python",
   "name": "python",
   "nbconvert_exporter": "python",
   "pygments_lexer": "ipython3",
   "version": "3.12.9"
  }
 },
 "nbformat": 4,
 "nbformat_minor": 5
}
