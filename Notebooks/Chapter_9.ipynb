{
 "cells": [
  {
   "cell_type": "markdown",
   "id": "8968f381",
   "metadata": {},
   "source": [
    "<h1 align=\"center\"style=\"color:red; font-size=50px\";><a href=\"https://www.youtube.com/watch?v=9r_PA6EBiqU&t=6s\">read and write data</a></h1>"
   ]
  },
  {
   "cell_type": "code",
   "execution_count": null,
   "id": "f59966e7",
   "metadata": {},
   "outputs": [
    {
     "name": "stdout",
     "output_type": "stream",
     "text": [
      "True\n"
     ]
    }
   ],
   "source": [
    "# # Module OS\n",
    "# import os\n",
    "# Current_directory=os.getcwd()\n",
    "# true_path=os.path.isabs(Current_directory)\n",
    "# print(f\"{true_path}\")"
   ]
  },
  {
   "cell_type": "markdown",
   "id": "3c9e8543",
   "metadata": {},
   "source": [
    "<h1 align=\"center\"> module is changed a bit</h1>"
   ]
  },
  {
   "cell_type": "code",
   "execution_count": null,
   "id": "79072f14",
   "metadata": {},
   "outputs": [
    {
     "ename": "TypeError",
     "evalue": "'module' object is not callable",
     "output_type": "error",
     "traceback": [
      "\u001b[31m---------------------------------------------------------------------------\u001b[39m",
      "\u001b[31mTypeError\u001b[39m                                 Traceback (most recent call last)",
      "\u001b[36mCell\u001b[39m\u001b[36m \u001b[39m\u001b[32mIn[9]\u001b[39m\u001b[32m, line 1\u001b[39m\n\u001b[32m----> \u001b[39m\u001b[32m1\u001b[39m os.getcwd() / \u001b[43mos\u001b[49m\u001b[43m.\u001b[49m\u001b[43mpath\u001b[49m\u001b[43m(\u001b[49m\u001b[33;43m\"\u001b[39;49m\u001b[33;43m~/workspace\u001b[39;49m\u001b[33;43m\"\u001b[39;49m\u001b[43m)\u001b[49m\n",
      "\u001b[31mTypeError\u001b[39m: 'module' object is not callable"
     ]
    }
   ],
   "source": [
    "    # os.getcwd() / os.path(\"~/workspace\")"
   ]
  },
  {
   "cell_type": "code",
   "execution_count": 4,
   "id": "03bef639",
   "metadata": {},
   "outputs": [
    {
     "data": {
      "text/plain": [
       "False"
      ]
     },
     "execution_count": 4,
     "metadata": {},
     "output_type": "execute_result"
    }
   ],
   "source": [
    "import os\n",
    "os.path.isabs(\".\")"
   ]
  },
  {
   "cell_type": "code",
   "execution_count": null,
   "id": "99c984d7",
   "metadata": {},
   "outputs": [],
   "source": []
  }
 ],
 "metadata": {
  "kernelspec": {
   "display_name": "Python 3",
   "language": "python",
   "name": "python3"
  },
  "language_info": {
   "codemirror_mode": {
    "name": "ipython",
    "version": 3
   },
   "file_extension": ".py",
   "mimetype": "text/x-python",
   "name": "python",
   "nbconvert_exporter": "python",
   "pygments_lexer": "ipython3",
   "version": "3.11.11"
  }
 },
 "nbformat": 4,
 "nbformat_minor": 5
}
