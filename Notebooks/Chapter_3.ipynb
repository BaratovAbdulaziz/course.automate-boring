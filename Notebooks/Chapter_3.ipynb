{
 "cells": [
  {
   "cell_type": "markdown",
   "id": "0fe1b78a",
   "metadata": {},
   "source": [
    "<h1 align=\"middle\" style=\"color:blue\">chapter_3</h1>"
   ]
  }
 ],
 "metadata": {
  "language_info": {
   "name": "python"
  }
 },
 "nbformat": 4,
 "nbformat_minor": 5
}
