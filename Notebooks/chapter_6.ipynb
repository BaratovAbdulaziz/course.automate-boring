{
 "cells": [
  {
   "cell_type": "markdown",
   "id": "888eb852",
   "metadata": {},
   "source": [
    "<h1 align=\"center\" style=\"color:green; font-size:50px;\">Dictionaries</h1>"
   ]
  },
  {
   "cell_type": "code",
   "execution_count": 4,
   "id": "cb15c1b7",
   "metadata": {},
   "outputs": [
    {
     "name": "stdout",
     "output_type": "stream",
     "text": [
      "{'name': 'Ali', 'grades': {'english': 85, 'science': 92}}\n"
     ]
    }
   ],
   "source": [
    "profile = {\n",
    "    \"name\": \"Abdulaziz\",\n",
    "    \"age\": 20,\n",
    "    \"country\": \"Uzbekistan\"\n",
    "}\n",
    "profile[\"name\"]= \"Key\"\n",
    "profile.pop(\"age\")\n",
    "profile[\"hobby\"] = \"coding\""
   ]
  },
  {
   "cell_type": "markdown",
   "id": "355e1ce3",
   "metadata": {},
   "source": [
    "# in top script we can see how we can change delete or add key value pairs\n",
    "- dict_name[new key] = \"value for new key\"\n",
    "- dict_name[existing key] = \"new value\"\n",
    "- dict_name.pop(key of the key value pairs that we want to delete)\n"
   ]
  },
  {
   "cell_type": "code",
   "execution_count": 7,
   "id": "38c8cf10",
   "metadata": {},
   "outputs": [
    {
     "name": "stdout",
     "output_type": "stream",
     "text": [
      "{'name': 'Ali', 'grades': {'english': 85, 'science': 92}}\n",
      "{'name': 'Ali', 'grades': {'english': 85, 'science': 92, 'IT': 100}}\n"
     ]
    }
   ],
   "source": [
    "student = {\n",
    "    \"name\": \"Ali\",\n",
    "    \"grades\": {\n",
    "        \"math\": 90,\n",
    "        \"english\": 85,\n",
    "        \"science\": 92\n",
    "    }\n",
    "}\n",
    "student[\"grades\"].pop(\"math\")\n",
    "print(student)\n",
    "student[\"grades\"][\"IT\"]= 100\n",
    "print(student)"
   ]
  },
  {
   "cell_type": "markdown",
   "id": "b15701f3",
   "metadata": {},
   "source": [
    "# in the script above we can see how we can use/access/delete nested dictionaries\n",
    "- name of biggest or main dictionary[key of a pair that has dict inside].pop(name of the key inside the nested dict)\n",
    "- name of main dict[key of the nested dict] [new key we need to add]= new value"
   ]
  },
  {
   "cell_type": "code",
   "execution_count": 9,
   "id": "bd67bc18",
   "metadata": {},
   "outputs": [
    {
     "name": "stdout",
     "output_type": "stream",
     "text": [
      "{'books': ['1984', 'Python Crash Course', 'Hamlet'], 'open': False}\n"
     ]
    }
   ],
   "source": [
    "library = {\n",
    "    \"books\": [\"1984\", \"Python Crash Course\", \"Atomic Habits\"],\n",
    "    \"open\": True\n",
    "}\n",
    "library[\"books\"].append(\"Hamlet\")\n",
    "library[\"open\"] = False\n",
    "library[\"books\"].remove(\"Atomic Habits\")\n",
    "print(library)"
   ]
  },
  {
   "cell_type": "markdown",
   "id": "70ce16c6",
   "metadata": {},
   "source": [
    "# script above shows how to change values even in dictionaries containing lists"
   ]
  },
  {
   "cell_type": "code",
   "execution_count": 11,
   "id": "6b273d76",
   "metadata": {},
   "outputs": [
    {
     "name": "stdout",
     "output_type": "stream",
     "text": [
      "{'France': ['Paris', 'Nice', 'Lyon'], 'Japan': ['Tokyo', 'Kyoto', 'Osaka', 'Nara'], 'Uxbekistan': ['Tashkent', 'Samarkand']}\n"
     ]
    }
   ],
   "source": [
    "travel_log = {\n",
    "    \"France\": [\"Paris\", \"Nice\", \"Lyon\"],\n",
    "    \"Japan\": [\"Tokyo\", \"Kyoto\", \"Osaka\"]\n",
    "}\n",
    "travel_log[\"Japan\"].append(\"Nara\")\n",
    "travel_log[\"Uzbekistan\"] = [\"Tashkent\", \"Samarkand\"]\n",
    "print(travel_log)"
   ]
  },
  {
   "cell_type": "markdown",
   "id": "47a9e903",
   "metadata": {},
   "source": [
    "# content above shows how to add new items to lists in dictionaries  also making such lists"
   ]
  },
  {
   "cell_type": "code",
   "execution_count": 24,
   "id": "2f069680",
   "metadata": {},
   "outputs": [
    {
     "name": "stdout",
     "output_type": "stream",
     "text": [
      "highest score is:93\n"
     ]
    }
   ],
   "source": [
    "score = []\n",
    "students = [\n",
    "    {\"name\": \"Sara\", \"score\": 88},\n",
    "    {\"name\": \"Omar\", \"score\": 76},\n",
    "    {\"name\": \"Layla\", \"score\": 93}\n",
    "]\n",
    "for i in students:\n",
    "    foo = i[\"score\"]\n",
    "    score.append(foo)\n",
    "    highest_score = max(score)\n",
    "print(f\"highest score is:{highest_score}\")\n",
    "students[1][\"score\"]= 100"
   ]
  },
  {
   "cell_type": "markdown",
   "id": "04dd53f8",
   "metadata": {},
   "source": [
    "# The code in code above shows how to loop through and find highest score point in the list using the function max\n",
    "# syntax\n",
    "# max(list name)\n",
    "# shows how to change specific value of a key"
   ]
  },
  {
   "cell_type": "code",
   "execution_count": 30,
   "id": "723f3af1",
   "metadata": {},
   "outputs": [
    {
     "name": "stdout",
     "output_type": "stream",
     "text": [
      "{'apples': 7, 'bananas': 6, 'oranges': 10}\n"
     ]
    }
   ],
   "source": [
    "inventory = {\n",
    "    \"apples\": 10,\n",
    "    \"bananas\": 6,\n",
    "    \"oranges\": 12\n",
    "}\n",
    "inventory.update({\"apples\": 7, \"oranges\": 10})\n",
    "\n",
    "while True:\n",
    "    user_sold = input(\"Enter the fruit you sold (or 'exit' to quit): \")\n",
    "    if user_sold == \"exit\":\n",
    "        break\n",
    "    amount_sold = int(input(\"Enter the amount sold: \"))\n",
    "    inventory[user_sold] = inventory.get(user_sold, 0) - amount_sold\n",
    "\n",
    "print(inventory)\n"
   ]
  },
  {
   "cell_type": "markdown",
   "id": "179fb539",
   "metadata": {},
   "source": [
    "<h1 align=\"center\">Examples</h1>"
   ]
  },
  {
   "cell_type": "code",
   "execution_count": null,
   "id": "2defdfb6",
   "metadata": {},
   "outputs": [
    {
     "name": "stdout",
     "output_type": "stream",
     "text": [
      "subject with such name is not defined could you type your score\n"
     ]
    },
    {
     "ename": "AttributeError",
     "evalue": "'NoneType' object has no attribute 'group'",
     "output_type": "error",
     "traceback": [
      "\u001b[31m---------------------------------------------------------------------------\u001b[39m",
      "\u001b[31mAttributeError\u001b[39m                            Traceback (most recent call last)",
      "\u001b[36mCell\u001b[39m\u001b[36m \u001b[39m\u001b[32mIn[33]\u001b[39m\u001b[32m, line 20\u001b[39m\n\u001b[32m     18\u001b[39m score_template = re.compile(\u001b[33mr\u001b[39m\u001b[33m\"\u001b[39m\u001b[33m\\\u001b[39m\u001b[33md+\u001b[39m\u001b[33m\"\u001b[39m)\n\u001b[32m     19\u001b[39m found_score = score_template.search(new_score)\n\u001b[32m---> \u001b[39m\u001b[32m20\u001b[39m grades[additional]= \u001b[38;5;28mint\u001b[39m(\u001b[43mfound_score\u001b[49m\u001b[43m.\u001b[49m\u001b[43mgroup\u001b[49m)\n",
      "\u001b[31mAttributeError\u001b[39m: 'NoneType' object has no attribute 'group'"
     ]
    }
   ],
   "source": [
    "import sys,re\n",
    "additional = input('what subject do you want to check? if not exists go a head write a new one if you wanna exit write \"exit\"').lower()\n",
    "grades = {\n",
    "    \"math\": 85,\n",
    "    \"english\": 78,\n",
    "    \"history\": 90,\n",
    "    \"science\": 82\n",
    "}\n",
    "if additional == \"exit\":\n",
    "    sys.exit()\n",
    "else:\n",
    "    quick_check = additional in grades\n",
    "    if quick_check == True:\n",
    "        print(grades[additional])\n",
    "    elif quick_check != True:\n",
    "        print(\"subject with such name is not defined could you type your score\")\n",
    "        new_score = str(input(\"\"))\n",
    "        score_template = re.compile(r\"\\d+\")\n",
    "        found_score = score_template.search(new_score)\n",
    "        grades[additional]= int(found_score.group())"
   ]
  },
  {
   "cell_type": "code",
   "execution_count": null,
   "id": "89633d5e",
   "metadata": {},
   "outputs": [],
   "source": [
    "import sys\n",
    "import re\n",
    "\n",
    "user_input = input(\"Whom you want to contact with? If not found, we can add them.\\n(Write exact name or 'exit' to quit): \").lower()\n",
    "\n",
    "contacts = {\n",
    "    \"ali\": {\"phone\": \"998901234567\", \"email\": \"ali@mail.com\"},\n",
    "    \"sara\": {\"phone\": \"998912345678\", \"email\": \"sara@mail.com\"}\n",
    "}\n",
    "\n",
    "def add_new_contact():\n",
    "    global contacts, user_input\n",
    "    # Templates\n",
    "    number_template = re.compile(r\"(\\d\\d\\d)?-?(\\d\\d)-?(\\d\\d\\d)-?(\\d\\d)-?(\\d\\d)\")\n",
    "    email_pattern = re.compile(r\"\\b[\\w.-]+@[\\w.-]+\\.\\w+\\b\")    \n",
    "\n",
    "    print(\"No such contact found. We'll add the name you provided. Please enter the rest:\")\n",
    "    user_new_phone_number = input(\"Phone number: \")\n",
    "    user_new_email = input(\"Email: \")\n",
    "\n",
    "    found_phone_number = number_template.findall(user_new_phone_number)\n",
    "    joined_phone_number = ''.join([''.join(t) for t in found_phone_number])\n",
    "\n",
    "    found_email = email_pattern.search(user_new_email)\n",
    "\n",
    "    contacts[user_input] = {\n",
    "        \"phone\": joined_phone_number,\n",
    "        \"email\": found_email.group() if found_email else \"invalid_email\"\n",
    "    }\n",
    "\n",
    "    print(f\"Added:\\n  Phone: {joined_phone_number}\\n  Email: {found_email.group() if found_email else 'Invalid email'}\")\n",
    "\n",
    "if user_input == \"exit\":\n",
    "    sys.exit()\n",
    "elif user_input in contacts:\n",
    "    print(f\"name: {user_input} phone: {contacts[user_input]['phone']} email: {contacts[user_input]['email']}\")\n",
    "else:\n",
    "    add_new_contact()"
   ]
  }
 ],
 "metadata": {
  "kernelspec": {
   "display_name": "base",
   "language": "python",
   "name": "python3"
  },
  "language_info": {
   "codemirror_mode": {
    "name": "ipython",
    "version": 3
   },
   "file_extension": ".py",
   "mimetype": "text/x-python",
   "name": "python",
   "nbconvert_exporter": "python",
   "pygments_lexer": "ipython3",
   "version": "3.13.2"
  }
 },
 "nbformat": 4,
 "nbformat_minor": 5
}
