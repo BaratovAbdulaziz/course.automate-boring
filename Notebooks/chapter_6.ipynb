{
 "cells": [
  {
   "cell_type": "markdown",
   "id": "888eb852",
   "metadata": {},
   "source": [
    "<h1 align=\"center\" style=\"color:green; font-size:50px;\">Dictionaries</h1>"
   ]
  },
  {
   "cell_type": "code",
   "execution_count": null,
   "id": "cb15c1b7",
   "metadata": {},
   "outputs": [
    {
     "name": "stdout",
     "output_type": "stream",
     "text": [
      "30 is the date of birth of Bob.\n",
      "Sorry, I don't have the birthday information for Me.\n",
      "Please enter the date of birth of Me. If you want to escape, type 'End'\n",
      "Goodbye!\n"
     ]
    }
   ],
   "source": [
    "# # no order in dicts\n",
    "# birthday_dict = {\n",
    "#     'Alice': 25,\n",
    "#     'Bob': 30,\n",
    "#     'Charlie': 15,\n",
    "#     'David': 20,\n",
    "#     'Eve': 18,\n",
    "#     'Frank': 22,\n",
    "#     'Grace': 27,\n",
    "#     'Hannah': 19,\n",
    "#     'Ivy': 24,\n",
    "#     'Jack': 29,\n",
    "#     'Karen': 21,\n",
    "#     'Leo': 26\n",
    "# }\n",
    "\n",
    "# while True:\n",
    "#     person_name = input(\"Enter the name of the person whose birthday you want to know (or 'End' to quit): \").capitalize()\n",
    "#     if person_name.lower() == 'end':\n",
    "#         print(\"Goodbye!\")\n",
    "#         break\n",
    "#     if person_name in birthday_dict:\n",
    "#         print(f\"{birthday_dict[person_name]} is the date of birth of {person_name}.\")\n",
    "#     else:\n",
    "#         print(f\"Sorry, I don't have the birthday information for {person_name}.\")\n",
    "#         print(f\"Please enter the date of birth of {person_name}. If you want to escape, type 'End'\")\n",
    "#         date_of_birth = input(\"\")\n",
    "#         if date_of_birth.lower() == 'end':\n",
    "#             print(\"Goodbye!\")\n",
    "#             break\n",
    "#         try:\n",
    "#             birthday_dict[person_name] = int(date_of_birth)\n",
    "#             print(\"Data was added successfully to the database.\")\n",
    "#         except ValueError:\n",
    "#             print(\"Invalid input. Please enter a valid number for the date of birth.\")"
   ]
  },
  {
   "cell_type": "code",
   "execution_count": null,
   "id": "38c8cf10",
   "metadata": {},
   "outputs": [
    {
     "name": "stdout",
     "output_type": "stream",
     "text": [
      "The value for key 'b' is: 2\n",
      "The value for key 'z' is: Key not found\n"
     ]
    }
   ],
   "source": [
    "# # dictionary.get(key, default_value)\n",
    "# # Example usage of dictionary.get() method\n",
    "# # Accessing a value using the get() method\n",
    "# retrieved_value = sample_dict.get('key_b', 'Key not found')\n",
    "# print(f\"The value for key 'key_b' is: {retrieved_value}\")\n",
    "\n",
    "# # Trying to access a non-existent key with a default value\n",
    "# missing_key_value = sample_dict.get('key_z', 'Key not found')\n",
    "# print(f\"The value for key 'key_z' is: {missing_key_value}\")"
   ]
  },
  {
   "cell_type": "code",
   "execution_count": null,
   "id": "bd67bc18",
   "metadata": {},
   "outputs": [
    {
     "name": "stdout",
     "output_type": "stream",
     "text": [
      "Name ID: me, Name: 2\n",
      "Name ID: me, Name: 2\n",
      "Name ID: ruhgurhug, Name: 11\n",
      "Name ID: ruhgurhug, Name: 11\n",
      "Name ID: , Name: \n",
      "Goodbye!\n"
     ]
    }
   ],
   "source": [
    "# def add_name_to_dict(name_id, name):\n",
    "#     name_dict = {}\n",
    "#     name_dict[name_id] = name\n",
    "#     print(f\"Name ID: {name_id}, Name: {name}\")\n",
    "# while True:\n",
    "#     name_id = input(\"Enter the Name ID: \")\n",
    "#     name = input(\"Enter the Name: \")\n",
    "#     add_name_to_dict(name_id, name)\n",
    "#     if name_id == '':\n",
    "#         print(\"Goodbye!\")\n",
    "#         break\n",
    "#     add_name_to_dict(name_id, name)"
   ]
  },
  {
   "cell_type": "code",
   "execution_count": null,
   "id": "6b273d76",
   "metadata": {},
   "outputs": [
    {
     "data": {
      "text/plain": [
       "'Key not found'"
      ]
     },
     "execution_count": 3,
     "metadata": {},
     "output_type": "execute_result"
    }
   ],
   "source": [
    "# user_info = {\n",
    "#     'name': 'John',\n",
    "#     'age': 30,\n",
    "#     'city': 'New York'\n",
    "# }\n",
    "# user_info.get(\"unknown_key\", \"Key not found\")"
   ]
  },
  {
   "cell_type": "code",
   "execution_count": null,
   "id": "2f069680",
   "metadata": {},
   "outputs": [],
   "source": [
    "# user_info = {\n",
    "#     \"name\": \"Abdulaziz\",\n",
    "#     \"age\": \"19\"\n",
    "# }\n",
    "# user_info.get(\"name\", \"Default Name\")\n",
    "# user_info.get(\"age\", \"Default Age\")\n"
   ]
  },
  {
   "cell_type": "code",
   "execution_count": null,
   "id": "723f3af1",
   "metadata": {},
   "outputs": [
    {
     "name": "stdout",
     "output_type": "stream",
     "text": [
      "{'name': 'Abdulaziz'}\n"
     ]
    }
   ],
   "source": [
    "# spam = {}\n",
    "# spam.setdefault(\"name\", \"Abdulaziz\")\n",
    "# print(spam)\n"
   ]
  },
  {
   "cell_type": "code",
   "execution_count": null,
   "id": "2defdfb6",
   "metadata": {},
   "outputs": [
    {
     "name": "stdout",
     "output_type": "stream",
     "text": [
      "{'m': 1, 'e': 2}\n"
     ]
    }
   ],
   "source": [
    "# number = 1\n",
    "# messages_dict = {\n",
    "\n",
    "# }\n",
    "# message = input(\"\")\n",
    "# for i in message:\n",
    "#     messages_dict[i] = number\n",
    "#     number += 1\n",
    "# print(messages_dict)\n",
    "\n"
   ]
  },
  {
   "cell_type": "code",
   "execution_count": null,
   "id": "89633d5e",
   "metadata": {},
   "outputs": [
    {
     "name": "stdout",
     "output_type": "stream",
     "text": [
      "a\n"
     ]
    }
   ],
   "source": [
    "chess_board = {\n",
    "    \"rook\": \"bishop\",\n",
    "    \"knight\": \"rook\"\n",
    "}\n",
    "print(f\"{chess_board['knight']}\")"
   ]
  },
  {
   "cell_type": "code",
   "execution_count": null,
   "id": "4956bb58",
   "metadata": {},
   "outputs": [],
   "source": []
  }
 ],
 "metadata": {
  "kernelspec": {
   "display_name": "base",
   "language": "python",
   "name": "python3"
  },
  "language_info": {
   "codemirror_mode": {
    "name": "ipython",
    "version": 3
   },
   "file_extension": ".py",
   "mimetype": "text/x-python",
   "name": "python",
   "nbconvert_exporter": "python",
   "pygments_lexer": "ipython3",
   "version": "3.12.9"
  }
 },
 "nbformat": 4,
 "nbformat_minor": 5
}
