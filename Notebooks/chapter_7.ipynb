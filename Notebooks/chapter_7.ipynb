{
 "cells": [
  {
   "cell_type": "markdown",
   "id": "eb132d45",
   "metadata": {},
   "source": [
    "# strings"
   ]
  },
  {
   "cell_type": "markdown",
   "id": "95e12157",
   "metadata": {},
   "source": [
    "## we have 2 such things (\"example\") or ('example') to generate string and also we have str()"
   ]
  },
  {
   "cell_type": "code",
   "execution_count": 2,
   "id": "0daf758b",
   "metadata": {},
   "outputs": [
    {
     "ename": "SyntaxError",
     "evalue": "invalid syntax (413973362.py, line 4)",
     "output_type": "error",
     "traceback": [
      "  \u001b[36mCell\u001b[39m\u001b[36m \u001b[39m\u001b[32mIn[2]\u001b[39m\u001b[32m, line 4\u001b[39m\n\u001b[31m    \u001b[39m\u001b[31m'a'a\u001b[39m\n       ^\n\u001b[31mSyntaxError\u001b[39m\u001b[31m:\u001b[39m invalid syntax\n"
     ]
    }
   ],
   "source": [
    "#we can do like:\n",
    "\"a'a\"\n",
    "# how ever:\n",
    "'a'a\n",
    "#lead to some issue"
   ]
  },
  {
   "cell_type": "markdown",
   "id": "d802fa2c",
   "metadata": {},
   "source": [
    "# Cell In[2], line 4\n",
    "    'a'a\n",
    "       ^\n",
    "SyntaxError: invalid syntax"
   ]
  },
  {
   "cell_type": "markdown",
   "id": "57ffd425",
   "metadata": {},
   "source": [
    "# we can use back slesh"
   ]
  },
  {
   "cell_type": "code",
   "execution_count": 3,
   "id": "3d5e959c",
   "metadata": {},
   "outputs": [
    {
     "name": "stdout",
     "output_type": "stream",
     "text": [
      "alone's cat\n"
     ]
    }
   ],
   "source": [
    "print('alone\\'s cat')"
   ]
  },
  {
   "cell_type": "code",
   "execution_count": 6,
   "id": "a8c6b008",
   "metadata": {},
   "outputs": [
    {
     "name": "stdout",
     "output_type": "stream",
     "text": [
      "it is me\n",
      "me\\s words\n"
     ]
    }
   ],
   "source": [
    "# we have different types of strings\n",
    "# f-string when we want to use veriables in print method example:\n",
    "f = \"me\"\n",
    "print(f\"it is {f}\")\n",
    "# r-string type when we need to add unsuitable symples like \"\" or ''\n",
    "print(r'me\\s words')"
   ]
  },
  {
   "cell_type": "code",
   "execution_count": 7,
   "id": "fd65fbb8",
   "metadata": {},
   "outputs": [
    {
     "name": "stdout",
     "output_type": "stream",
     "text": [
      "\n",
      "a1\n",
      "a3\n",
      "w2\n",
      "\n"
     ]
    }
   ],
   "source": [
    "# multi line strings\n",
    "# '''example'''\n",
    "print('''\n",
    "a1\n",
    "a3\n",
    "w2\n",
    "''')"
   ]
  },
  {
   "cell_type": "code",
   "execution_count": 8,
   "id": "4c46d8db",
   "metadata": {},
   "outputs": [
    {
     "name": "stdout",
     "output_type": "stream",
     "text": [
      "hello\n"
     ]
    }
   ],
   "source": [
    "# function commenting example:\n",
    "def me():\n",
    "    '''this function just hello'''\n",
    "    print(\"hello\")\n",
    "me()"
   ]
  },
  {
   "cell_type": "code",
   "execution_count": 11,
   "id": "c4453f2b",
   "metadata": {},
   "outputs": [
    {
     "data": {
      "text/plain": [
       "'me'"
      ]
     },
     "execution_count": 11,
     "metadata": {},
     "output_type": "execute_result"
    }
   ],
   "source": [
    "# indexing strings\n",
    "h = \"me\"\n",
    "h[1]\n",
    "h[0]\n",
    "h[0:]"
   ]
  },
  {
   "cell_type": "code",
   "execution_count": 12,
   "id": "03574666",
   "metadata": {},
   "outputs": [
    {
     "data": {
      "text/plain": [
       "True"
      ]
     },
     "execution_count": 12,
     "metadata": {},
     "output_type": "execute_result"
    }
   ],
   "source": [
    "p = \"hello world\"\n",
    "\"hello\" in p"
   ]
  },
  {
   "cell_type": "code",
   "execution_count": 13,
   "id": "44f358e4",
   "metadata": {},
   "outputs": [
    {
     "data": {
      "text/plain": [
       "False"
      ]
     },
     "execution_count": 13,
     "metadata": {},
     "output_type": "execute_result"
    }
   ],
   "source": [
    "\"Hello\" in p"
   ]
  },
  {
   "cell_type": "code",
   "execution_count": 19,
   "id": "0577eb5c",
   "metadata": {},
   "outputs": [
    {
     "name": "stdout",
     "output_type": "stream",
     "text": [
      "True\n",
      "True\n"
     ]
    }
   ],
   "source": [
    "#methods such as .upper() | .lower() | .isupper() | .islower() | .isdecimal() | .isalnum()\n",
    "print(\"me333\".isalnum())\n",
    "print(\"14\".isdecimal())\n",
    "\n"
   ]
  },
  {
   "cell_type": "code",
   "execution_count": 22,
   "id": "43ebdc56",
   "metadata": {},
   "outputs": [
    {
     "name": "stdout",
     "output_type": "stream",
     "text": [
      "True\n",
      "True\n"
     ]
    }
   ],
   "source": [
    "print(\"hello world\".startswith(\"hello\"))\n",
    "print(\"hello world\".endswith(\"d\"))"
   ]
  },
  {
   "cell_type": "code",
   "execution_count": null,
   "id": "914ce657",
   "metadata": {},
   "outputs": [
    {
     "name": "stdout",
     "output_type": "stream",
     "text": [
      "me you others\n"
     ]
    }
   ],
   "source": [
    "# to turn lists to string\n",
    "example_list = [\"me\",\"you\",\"others\"]\n",
    "print(\" \".join(example_list))"
   ]
  },
  {
   "cell_type": "code",
   "execution_count": 29,
   "id": "ed1b2aac",
   "metadata": {},
   "outputs": [
    {
     "name": "stdout",
     "output_type": "stream",
     "text": [
      "['the', 'person', 'you', 'see', 'is', 'my', 'bro']\n",
      "['a', 'b', 'c', 'd', 'e']\n"
     ]
    }
   ],
   "source": [
    "# turn string to list | .split(argument # specify the character)\n",
    "#example:\n",
    "new = \"a,b,c,d,e\".split(\",\")\n",
    "me_example_values = \"the person you see is my bro\".split()\n",
    "print(me_example_values)\n",
    "print(new)"
   ]
  },
  {
   "cell_type": "code",
   "execution_count": 30,
   "id": "fb4dc3b4",
   "metadata": {},
   "outputs": [
    {
     "name": "stdout",
     "output_type": "stream",
     "text": [
      "['', 'awdawdawda', 'asdawdawdawd', 'a', 'sda', 'wd', 'aw', 'd', 'asda', 'sd', 'a', 'sda', '', 'ds', 'as', 'daa', 'sda', 'sd', 'asd', 'asdad', 'sd', 'as', 'daa', 'sdda', 'sdd', 'as', 'dd', 'asd', 'assd', 'a', 'sd', 'asd', 'a', 's', 'asd', 'asd', 'a', 'staticmethodsd', 'as', 'da', 'sd', 'as', 'd', 'asciida', 'sortedasd', 'as', 'da', 'sd', 'aa', 'sd', 'as', 'da', 'd', 'as', 'da', 's', '']\n"
     ]
    }
   ],
   "source": [
    "print('''\n",
    "awdawdawda\n",
    "asdawdawdawd\n",
    "a\n",
    "sda\n",
    "wd\n",
    "aw\n",
    "d\n",
    "asda\n",
    "sd\n",
    "a\n",
    "sda\n",
    "\n",
    "ds\n",
    "as\n",
    "daa\n",
    "sda\n",
    "sd\n",
    "asd\n",
    "asdad\n",
    "sd\n",
    "as\n",
    "daa\n",
    "sdda\n",
    "sdd\n",
    "as\n",
    "dd\n",
    "asd\n",
    "assd\n",
    "a\n",
    "sd\n",
    "asd\n",
    "a\n",
    "s\n",
    "asd\n",
    "asd\n",
    "a\n",
    "staticmethodsd\n",
    "as\n",
    "da\n",
    "sd\n",
    "as\n",
    "d\n",
    "asciida\n",
    "sortedasd\n",
    "as\n",
    "da\n",
    "sd\n",
    "aa\n",
    "sd\n",
    "as\n",
    "da\n",
    "d\n",
    "as\n",
    "da\n",
    "s\n",
    "'''.split(\"\\n\"))"
   ]
  },
  {
   "cell_type": "code",
   "execution_count": 32,
   "id": "0149690e",
   "metadata": {},
   "outputs": [
    {
     "name": "stdout",
     "output_type": "stream",
     "text": [
      "('hello ', 'w', 'orld')\n"
     ]
    }
   ],
   "source": [
    "# use partition to split the walue the thing after in a new id and before in a new entery\n",
    "print(\"hello world\".partition(\"w\"))"
   ]
  },
  {
   "cell_type": "code",
   "execution_count": 37,
   "id": "3bf5761c",
   "metadata": {},
   "outputs": [
    {
     "name": "stdout",
     "output_type": "stream",
     "text": [
      "*****hello\n",
      "        me\n"
     ]
    }
   ],
   "source": [
    "# rjust # I do not know how to explain \n",
    "# example:\n",
    "print(\"hello\".rjust(10,\"*\"))\n",
    "print(\"me\".rjust(10))"
   ]
  },
  {
   "cell_type": "code",
   "execution_count": 40,
   "id": "ceb42500",
   "metadata": {},
   "outputs": [
    {
     "name": "stdout",
     "output_type": "stream",
     "text": [
      "treeffffff\n"
     ]
    }
   ],
   "source": [
    "#.ljust() the same as brfore but for right\n",
    "#print(\"tree\".ljust(10, \"free\"))\n",
    "#---------------------------------------------------------------------------\n",
    "# TypeError                                 Traceback (most recent call last)\n",
    "# Cell In[38], line 2\n",
    "    #   1 #.ljust() the same as brfore but for right\n",
    "# ----> 2 print(\"tree\".ljust(10, \"free\"))\n",
    "# \n",
    "#\n",
    "# TypeError: The fill character must be exactly one character long\n",
    "print(\"tree\".ljust(10, \"f\"))\n"
   ]
  },
  {
   "cell_type": "code",
   "execution_count": 42,
   "id": "ea60f75e",
   "metadata": {},
   "outputs": [
    {
     "name": "stdout",
     "output_type": "stream",
     "text": [
      "-------items-------\n"
     ]
    }
   ],
   "source": [
    "#the most useful one .center()\n",
    "print(\"items\".center(19,\"-\"))"
   ]
  },
  {
   "cell_type": "code",
   "execution_count": 47,
   "id": "ac86d58e",
   "metadata": {},
   "outputs": [
    {
     "name": "stdout",
     "output_type": "stream",
     "text": [
      "me\n",
      "                                       me\n",
      "me                                     \n"
     ]
    }
   ],
   "source": [
    "# removing spaces in the string\n",
    "print(\"                           me                     \".strip())\n",
    "print(\"                                       me                           \".rstrip())\n",
    "print(\"                          me                                     \".lstrip())"
   ]
  },
  {
   "cell_type": "code",
   "execution_count": 51,
   "id": "edaf3178",
   "metadata": {},
   "outputs": [
    {
     "name": "stdout",
     "output_type": "stream",
     "text": [
      "we can use  '\\n' to start a new line and '\\t' to make 4 spaces \n",
      "\ttabed\n",
      "line one\n",
      " started a new line\n"
     ]
    }
   ],
   "source": [
    "print(r\"we can use  '\\n' to start a new line and '\\t' to make 4 spaces \")\n",
    "print(\"\\ttabed\")\n",
    "print(\"line one\\n started a new line\")"
   ]
  },
  {
   "cell_type": "code",
   "execution_count": 85,
   "id": "67b7902e",
   "metadata": {},
   "outputs": [
    {
     "name": "stdout",
     "output_type": "stream",
     "text": [
      "Requirement already satisfied: pyperclip in /home/abdulaziz-baratov/miniconda3/lib/python3.12/site-packages (1.9.0)\n",
      "Note: you may need to restart the kernel to use updated packages.\n"
     ]
    }
   ],
   "source": [
    "%pip install pyperclip\n"
   ]
  },
  {
   "cell_type": "code",
   "execution_count": 87,
   "id": "a9e8f217",
   "metadata": {},
   "outputs": [
    {
     "name": "stdout",
     "output_type": "stream",
     "text": [
      "Copied to clipboard.\n"
     ]
    }
   ],
   "source": [
    "import pyperclip\n",
    "\n",
    "pyperclip.copy(\"restart\")         # Copy to clipboard\n",
    "\n",
    "print(\"Copied to clipboard.\")\n"
   ]
  },
  {
   "cell_type": "code",
   "execution_count": null,
   "id": "9acd7d19",
   "metadata": {},
   "outputs": [],
   "source": []
  }
 ],
 "metadata": {
  "kernelspec": {
   "display_name": "base",
   "language": "python",
   "name": "python3"
  },
  "language_info": {
   "codemirror_mode": {
    "name": "ipython",
    "version": 3
   },
   "file_extension": ".py",
   "mimetype": "text/x-python",
   "name": "python",
   "nbconvert_exporter": "python",
   "pygments_lexer": "ipython3",
   "version": "3.12.9"
  }
 },
 "nbformat": 4,
 "nbformat_minor": 5
}
