{
 "cells": [
  {
   "cell_type": "markdown",
   "id": "eb132d45",
   "metadata": {},
   "source": [
    "# strings"
   ]
  },
  {
   "cell_type": "markdown",
   "id": "95e12157",
   "metadata": {},
   "source": [
    "## we have 2 such things (\"example\") or ('example') to generate string and also we have str()"
   ]
  },
  {
   "cell_type": "code",
   "execution_count": null,
   "id": "0daf758b",
   "metadata": {},
   "outputs": [
    {
     "ename": "SyntaxError",
     "evalue": "invalid syntax (413973362.py, line 4)",
     "output_type": "error",
     "traceback": [
      "  \u001b[36mCell\u001b[39m\u001b[36m \u001b[39m\u001b[32mIn[2]\u001b[39m\u001b[32m, line 4\u001b[39m\n\u001b[31m    \u001b[39m\u001b[31m'a'a\u001b[39m\n       ^\n\u001b[31mSyntaxError\u001b[39m\u001b[31m:\u001b[39m invalid syntax\n"
     ]
    }
   ],
   "source": [
    "# Correct usage of strings:\n",
    "valid_string_1 = \"a'a\"\n",
    "# However, the following will lead to an issue:\n",
    "# invalid_string = 'a'a'  # This will cause a syntax error\n"
   ]
  },
  {
   "cell_type": "markdown",
   "id": "d802fa2c",
   "metadata": {},
   "source": [
    "# Cell In[2], line 4\n",
    "    'a'a\n",
    "       ^\n",
    "SyntaxError: invalid syntax"
   ]
  },
  {
   "cell_type": "markdown",
   "id": "57ffd425",
   "metadata": {},
   "source": [
    "# we can use back slesh"
   ]
  },
  {
   "cell_type": "code",
   "execution_count": 3,
   "id": "3d5e959c",
   "metadata": {},
   "outputs": [
    {
     "name": "stdout",
     "output_type": "stream",
     "text": [
      "alone's cat\n"
     ]
    }
   ],
   "source": [
    "print('alone\\'s cat')"
   ]
  },
  {
   "cell_type": "code",
   "execution_count": null,
   "id": "a8c6b008",
   "metadata": {},
   "outputs": [
    {
     "name": "stdout",
     "output_type": "stream",
     "text": [
      "it is me\n",
      "me\\s words\n"
     ]
    }
   ],
   "source": [
    "# we have different types of strings\n",
    "# f-string when we want to use variables in the print method example:\n",
    "name = \"John\"\n",
    "print(f\"It is {name}\")\n",
    "# r-string type when we need to add unsuitable symbols like \"\" or ''\n",
    "print(r'John\\s words')"
   ]
  },
  {
   "cell_type": "code",
   "execution_count": null,
   "id": "fd65fbb8",
   "metadata": {},
   "outputs": [
    {
     "name": "stdout",
     "output_type": "stream",
     "text": [
      "\n",
      "a1\n",
      "a3\n",
      "w2\n",
      "\n"
     ]
    }
   ],
   "source": [
    "# multi-line strings\n",
    "# '''example'''\n",
    "multi_line_string = '''\n",
    "a1\n",
    "a3\n",
    "w2\n",
    "'''\n",
    "print(multi_line_string)"
   ]
  },
  {
   "cell_type": "code",
   "execution_count": null,
   "id": "4c46d8db",
   "metadata": {},
   "outputs": [
    {
     "name": "stdout",
     "output_type": "stream",
     "text": [
      "hello\n"
     ]
    }
   ],
   "source": [
    "# function commenting example:\n",
    "def greet_user():\n",
    "    '''This function prints a greeting message.'''\n",
    "    print(\"hello\")\n",
    "\n",
    "greet_user()"
   ]
  },
  {
   "cell_type": "code",
   "execution_count": null,
   "id": "c4453f2b",
   "metadata": {},
   "outputs": [
    {
     "data": {
      "text/plain": [
       "'me'"
      ]
     },
     "execution_count": 11,
     "metadata": {},
     "output_type": "execute_result"
    }
   ],
   "source": [
    "# indexing strings\n",
    "string_example = \"example\"\n",
    "print(string_example[1])  # Accessing the second character\n",
    "print(string_example[0])  # Accessing the first character\n",
    "print(string_example[0:])  # Accessing the entire string starting from the first character"
   ]
  },
  {
   "cell_type": "code",
   "execution_count": null,
   "id": "03574666",
   "metadata": {},
   "outputs": [
    {
     "data": {
      "text/plain": [
       "True"
      ]
     },
     "execution_count": 12,
     "metadata": {},
     "output_type": "execute_result"
    }
   ],
   "source": [
    "sentence = \"hello world\"\n",
    "\"hello\" in sentence"
   ]
  },
  {
   "cell_type": "code",
   "execution_count": null,
   "id": "44f358e4",
   "metadata": {},
   "outputs": [
    {
     "data": {
      "text/plain": [
       "False"
      ]
     },
     "execution_count": 13,
     "metadata": {},
     "output_type": "execute_result"
    }
   ],
   "source": [
    "\"Hello\" in sentence"
   ]
  },
  {
   "cell_type": "code",
   "execution_count": null,
   "id": "0577eb5c",
   "metadata": {},
   "outputs": [
    {
     "name": "stdout",
     "output_type": "stream",
     "text": [
      "True\n",
      "True\n"
     ]
    }
   ],
   "source": [
    "# Methods such as .upper() | .lower() | .isupper() | .islower() | .isdecimal() | .isalnum()\n",
    "example_string = \"me333\"\n",
    "numeric_string = \"14\"\n",
    "\n",
    "print(example_string.isalnum())  # Checks if the string is alphanumeric\n",
    "print(numeric_string.isdecimal())  # Checks if the string is decimal\n"
   ]
  },
  {
   "cell_type": "code",
   "execution_count": null,
   "id": "43ebdc56",
   "metadata": {},
   "outputs": [
    {
     "name": "stdout",
     "output_type": "stream",
     "text": [
      "True\n",
      "True\n"
     ]
    }
   ],
   "source": [
    "greeting = \"hello world\"\n",
    "print(greeting.startswith(\"hello\"))\n",
    "print(greeting.endswith(\"d\"))"
   ]
  },
  {
   "cell_type": "code",
   "execution_count": null,
   "id": "914ce657",
   "metadata": {},
   "outputs": [
    {
     "name": "stdout",
     "output_type": "stream",
     "text": [
      "me you others\n"
     ]
    }
   ],
   "source": [
    "# to turn lists to string\n",
    "example_list = [\"me\",\"you\",\"others\"]\n",
    "print(\" \".join(example_list))"
   ]
  },
  {
   "cell_type": "code",
   "execution_count": null,
   "id": "ed1b2aac",
   "metadata": {},
   "outputs": [
    {
     "name": "stdout",
     "output_type": "stream",
     "text": [
      "['the', 'person', 'you', 'see', 'is', 'my', 'bro']\n",
      "['a', 'b', 'c', 'd', 'e']\n"
     ]
    }
   ],
   "source": [
    "# Turn string to list | .split(argument # specify the character)\n",
    "# Example:\n",
    "comma_separated_values = \"a,b,c,d,e\".split(\",\")\n",
    "words_in_sentence = \"the person you see is my bro\".split()\n",
    "print(words_in_sentence)\n",
    "print(comma_separated_values)"
   ]
  },
  {
   "cell_type": "code",
   "execution_count": null,
   "id": "fb4dc3b4",
   "metadata": {},
   "outputs": [
    {
     "name": "stdout",
     "output_type": "stream",
     "text": [
      "['', 'awdawdawda', 'asdawdawdawd', 'a', 'sda', 'wd', 'aw', 'd', 'asda', 'sd', 'a', 'sda', '', 'ds', 'as', 'daa', 'sda', 'sd', 'asd', 'asdad', 'sd', 'as', 'daa', 'sdda', 'sdd', 'as', 'dd', 'asd', 'assd', 'a', 'sd', 'asd', 'a', 's', 'asd', 'asd', 'a', 'staticmethodsd', 'as', 'da', 'sd', 'as', 'd', 'asciida', 'sortedasd', 'as', 'da', 'sd', 'aa', 'sd', 'as', 'da', 'd', 'as', 'da', 's', '']\n"
     ]
    }
   ],
   "source": [
    "multi_line_text = '''\n",
    "awdawdawda\n",
    "asdawdawdawd\n",
    "a\n",
    "sda\n",
    "wd\n",
    "aw\n",
    "d\n",
    "asda\n",
    "sd\n",
    "a\n",
    "sda\n",
    "\n",
    "ds\n",
    "as\n",
    "daa\n",
    "sda\n",
    "sd\n",
    "asd\n",
    "asdad\n",
    "sd\n",
    "as\n",
    "daa\n",
    "sdda\n",
    "sdd\n",
    "as\n",
    "dd\n",
    "asd\n",
    "assd\n",
    "a\n",
    "sd\n",
    "asd\n",
    "a\n",
    "s\n",
    "asd\n",
    "asd\n",
    "a\n",
    "staticmethodsd\n",
    "as\n",
    "da\n",
    "sd\n",
    "as\n",
    "d\n",
    "asciida\n",
    "sortedasd\n",
    "as\n",
    "da\n",
    "sd\n",
    "aa\n",
    "sd\n",
    "as\n",
    "da\n",
    "d\n",
    "as\n",
    "da\n",
    "s\n",
    "'''\n",
    "\n",
    "lines = multi_line_text.split(\"\\n\")\n",
    "print(lines)"
   ]
  },
  {
   "cell_type": "code",
   "execution_count": null,
   "id": "0149690e",
   "metadata": {},
   "outputs": [
    {
     "name": "stdout",
     "output_type": "stream",
     "text": [
      "('hello ', 'w', 'orld')\n"
     ]
    }
   ],
   "source": [
    "# Use partition to split the value; the part before the separator, the separator itself, and the part after are returned as a tuple\n",
    "text = \"hello world\"\n",
    "print(text.partition(\"w\"))"
   ]
  },
  {
   "cell_type": "code",
   "execution_count": 37,
   "id": "3bf5761c",
   "metadata": {},
   "outputs": [
    {
     "name": "stdout",
     "output_type": "stream",
     "text": [
      "*****hello\n",
      "        me\n"
     ]
    }
   ],
   "source": [
    "# rjust # I do not know how to explain \n",
    "# example:\n",
    "print(\"hello\".rjust(10,\"*\"))\n",
    "print(\"me\".rjust(10))"
   ]
  },
  {
   "cell_type": "code",
   "execution_count": null,
   "id": "ceb42500",
   "metadata": {},
   "outputs": [
    {
     "name": "stdout",
     "output_type": "stream",
     "text": [
      "treeffffff\n"
     ]
    }
   ],
   "source": [
    "# .ljust() aligns the string to the left and fills the remaining space with the specified character\n",
    "# Example of incorrect usage:\n",
    "# print(\"tree\".ljust(10, \"free\"))  # This will raise a TypeError because the fill character must be a single character\n",
    "\n",
    "# Correct usage:\n",
    "word = \"tree\"\n",
    "fill_character = \"f\"\n",
    "print(word.ljust(10, fill_character))\n"
   ]
  },
  {
   "cell_type": "code",
   "execution_count": 42,
   "id": "ea60f75e",
   "metadata": {},
   "outputs": [
    {
     "name": "stdout",
     "output_type": "stream",
     "text": [
      "-------items-------\n"
     ]
    }
   ],
   "source": [
    "#the most useful one .center()\n",
    "print(\"items\".center(19,\"-\"))"
   ]
  },
  {
   "cell_type": "code",
   "execution_count": 47,
   "id": "ac86d58e",
   "metadata": {},
   "outputs": [
    {
     "name": "stdout",
     "output_type": "stream",
     "text": [
      "me\n",
      "                                       me\n",
      "me                                     \n"
     ]
    }
   ],
   "source": [
    "# removing spaces in the string\n",
    "print(\"                           me                     \".strip())\n",
    "print(\"                                       me                           \".rstrip())\n",
    "print(\"                          me                                     \".lstrip())"
   ]
  },
  {
   "cell_type": "code",
   "execution_count": null,
   "id": "edaf3178",
   "metadata": {},
   "outputs": [
    {
     "name": "stdout",
     "output_type": "stream",
     "text": [
      "we can use  '\\n' to start a new line and '\\t' to make 4 spaces \n",
      "\ttabed\n",
      "line one\n",
      " started a new line\n"
     ]
    }
   ],
   "source": [
    "print(r\"we can use  '\\n' to start a new line and '\\t' to make 4 spaces \")\n",
    "print(\"\\t tab\")\n",
    "print(\"line one\\n started a new line\")"
   ]
  },
  {
   "cell_type": "code",
   "execution_count": 85,
   "id": "67b7902e",
   "metadata": {},
   "outputs": [
    {
     "name": "stdout",
     "output_type": "stream",
     "text": [
      "Requirement already satisfied: pyperclip in /home/abdulaziz-baratov/miniconda3/lib/python3.12/site-packages (1.9.0)\n",
      "Note: you may need to restart the kernel to use updated packages.\n"
     ]
    }
   ],
   "source": [
    "%pip install pyperclip\n"
   ]
  },
  {
   "cell_type": "code",
   "execution_count": 87,
   "id": "a9e8f217",
   "metadata": {},
   "outputs": [
    {
     "name": "stdout",
     "output_type": "stream",
     "text": [
      "Copied to clipboard.\n"
     ]
    }
   ],
   "source": [
    "import pyperclip\n",
    "\n",
    "pyperclip.copy(\"restart\")         # Copy to clipboard\n",
    "\n",
    "print(\"Copied to clipboard.\")\n"
   ]
  },
  {
   "cell_type": "code",
   "execution_count": null,
   "id": "9acd7d19",
   "metadata": {},
   "outputs": [
    {
     "name": "stdout",
     "output_type": "stream",
     "text": [
      "X\n"
     ]
    }
   ],
   "source": [
    "import re\n",
    "# Regular expressions\n",
    "sample_variable = re.compile(r\"\\d+\")\n",
    "sample_result = sample_variable.sub(\"X\", \"1234\")\n",
    "print(sample_result)  # Output: \"x\""
   ]
  }
 ],
 "metadata": {
  "kernelspec": {
   "display_name": "base",
   "language": "python",
   "name": "python3"
  },
  "language_info": {
   "codemirror_mode": {
    "name": "ipython",
    "version": 3
   },
   "file_extension": ".py",
   "mimetype": "text/x-python",
   "name": "python",
   "nbconvert_exporter": "python",
   "pygments_lexer": "ipython3",
   "version": "3.12.9"
  }
 },
 "nbformat": 4,
 "nbformat_minor": 5
}
