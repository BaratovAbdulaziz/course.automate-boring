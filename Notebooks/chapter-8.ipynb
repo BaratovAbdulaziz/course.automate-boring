{
 "cells": [
  {
   "cell_type": "markdown",
   "id": "1e6cda4a",
   "metadata": {},
   "source": [
    "<h1 align=\"center\" style=\"color:yellow;font-size:75px;\">Input validation</h1>"
   ]
  },
  {
   "cell_type": "code",
   "execution_count": null,
   "id": "0556299f",
   "metadata": {},
   "outputs": [
    {
     "name": "stdout",
     "output_type": "stream",
     "text": [
      "your age is 1\n"
     ]
    }
   ],
   "source": [
    "#     # small program that checks the given age is valid or not\n",
    "#     #using while loop ,try and except\n",
    "# while True:\n",
    "#     age = input(\"enter your age\")\n",
    "\n",
    "#     try:\n",
    "#         age=int(age)\n",
    "#         if int(age) and age>0:\n",
    "#             print(f'your age is {age}')\n",
    "#             break\n",
    "#     except:\n",
    "#         print(\"the given answer is invalid please try again\")\n",
    "#         continue"
   ]
  },
  {
   "cell_type": "markdown",
   "id": "cec00fe2",
   "metadata": {},
   "source": [
    "<h1 align=\"middle\" style=\"color:grey;\">Using python module called pyinputplus that covers common cases of input validation</h1>"
   ]
  },
  {
   "cell_type": "code",
   "execution_count": 1,
   "id": "4d723544",
   "metadata": {},
   "outputs": [
    {
     "name": "stdout",
     "output_type": "stream",
     "text": [
      "Requirement already satisfied: pyinputplus in /home/abdulaziz-baratov/miniconda3/lib/python3.12/site-packages (0.2.12)\n",
      "Requirement already satisfied: pysimplevalidate>=0.2.7 in /home/abdulaziz-baratov/miniconda3/lib/python3.12/site-packages (from pyinputplus) (0.2.12)\n",
      "Requirement already satisfied: stdiomask>=0.0.3 in /home/abdulaziz-baratov/miniconda3/lib/python3.12/site-packages (from pyinputplus) (0.0.6)\n",
      "Note: you may need to restart the kernel to use updated packages.\n"
     ]
    }
   ],
   "source": [
    "%pip install pyinputplus"
   ]
  },
  {
   "cell_type": "code",
   "execution_count": null,
   "id": "8daaf546",
   "metadata": {},
   "outputs": [
    {
     "name": "stdout",
     "output_type": "stream",
     "text": [
      "Welcome Data collector \n",
      " enter your name\n"
     ]
    },
    {
     "name": "stdout",
     "output_type": "stream",
     "text": [
      "Nice, now could you enter your age with numbers\n",
      "great, now your address:\n",
      "processing...\n",
      "Great! It is time to process\n",
      "['abdulaziz', 18, 'sarbadorlar 68']\n",
      "abdulaziz\n",
      " 18\n",
      " sarbadorlar 68\n",
      "done\n"
     ]
    }
   ],
   "source": [
    "# import pyinputplus as pyip\n",
    "# import time,os,pyperclip\n",
    "\n",
    "# all_info_dict = {}\n",
    "# # asking user data\n",
    "# print(f\"Welcome Data collector \\n enter your name\")\n",
    "# name = pyip.inputStr()\n",
    "# print(f\"Nice, now could you enter your age with numbers\")\n",
    "# age = pyip.inputNum()\n",
    "# print(\"great, now your address:\")\n",
    "# address = pyip.inputStr()\n",
    "# print(\"processing...\")\n",
    "# print(\"Great! It is time to process\")\n",
    "# all_info_dict[name]= name\n",
    "# all_info_dict[age]= age\n",
    "# all_info_dict[address] = address\n",
    "# all_info_dict=list(all_info_dict)\n",
    "# print(all_info_dict)\n",
    "# time.sleep(3)\n",
    "# print(f'{all_info_dict[0]}\\n {all_info_dict[1]}\\n {all_info_dict[2]}')\n",
    "# pyperclip.copy(f\"{all_info_dict[0]}\\n {all_info_dict[1]}\\n {all_info_dict[2]}\")\n",
    "# print(\"done\")\n",
    "# #output:Abdulaziz\n",
    "# #18\n",
    "# #sarbadorlar 68\n"
   ]
  },
  {
   "cell_type": "code",
   "execution_count": null,
   "id": "14d35239",
   "metadata": {},
   "outputs": [
    {
     "data": {
      "text/plain": [
       "['Any',\n",
       " 'Callable',\n",
       " 'Optional',\n",
       " 'Pattern',\n",
       " 'PyInputPlusException',\n",
       " 'RetryLimitException',\n",
       " 'Sequence',\n",
       " 'TimeoutException',\n",
       " 'Union',\n",
       " 'ValidationException',\n",
       " '__builtins__',\n",
       " '__cached__',\n",
       " '__doc__',\n",
       " '__file__',\n",
       " '__loader__',\n",
       " '__name__',\n",
       " '__package__',\n",
       " '__path__',\n",
       " '__spec__',\n",
       " '__version__',\n",
       " '_checkLimitAndTimeout',\n",
       " '_genericInput',\n",
       " 'absolute_import',\n",
       " 'division',\n",
       " 'functionName',\n",
       " 'inputAddress',\n",
       " 'inputBool',\n",
       " 'inputChoice',\n",
       " 'inputCustom',\n",
       " 'inputDate',\n",
       " 'inputDatetime',\n",
       " 'inputDayOfMonth',\n",
       " 'inputDayOfWeek',\n",
       " 'inputEmail',\n",
       " 'inputFilename',\n",
       " 'inputFilepath',\n",
       " 'inputFloat',\n",
       " 'inputIP',\n",
       " 'inputInt',\n",
       " 'inputMenu',\n",
       " 'inputMonth',\n",
       " 'inputName',\n",
       " 'inputNum',\n",
       " 'inputPassword',\n",
       " 'inputPhone',\n",
       " 'inputRegex',\n",
       " 'inputRegexStr',\n",
       " 'inputStr',\n",
       " 'inputTime',\n",
       " 'inputURL',\n",
       " 'inputUSState',\n",
       " 'inputYesNo',\n",
       " 'inputZip',\n",
       " 'parameters',\n",
       " 'print_function',\n",
       " 'pysv',\n",
       " 'stdiomask',\n",
       " 'time',\n",
       " 'validateAddress',\n",
       " 'validateBool',\n",
       " 'validateChoice',\n",
       " 'validateDate',\n",
       " 'validateDatetime',\n",
       " 'validateDayOfMonth',\n",
       " 'validateDayOfWeek',\n",
       " 'validateEmail',\n",
       " 'validateFilename',\n",
       " 'validateFilepath',\n",
       " 'validateFloat',\n",
       " 'validateIP',\n",
       " 'validateIPv4',\n",
       " 'validateIPv6',\n",
       " 'validateInt',\n",
       " 'validateMonth',\n",
       " 'validateName',\n",
       " 'validateNum',\n",
       " 'validatePhone',\n",
       " 'validateRegex',\n",
       " 'validateRegexStr',\n",
       " 'validateStr',\n",
       " 'validateTime',\n",
       " 'validateURL',\n",
       " 'validateUSState',\n",
       " 'validateYesNo']"
      ]
     },
     "execution_count": 2,
     "metadata": {},
     "output_type": "execute_result"
    }
   ],
   "source": [
    "# dir(pyip)"
   ]
  },
  {
   "cell_type": "code",
   "execution_count": null,
   "id": "6d87b79a",
   "metadata": {},
   "outputs": [
    {
     "ename": "NameError",
     "evalue": "name 'admin' is not defined",
     "output_type": "error",
     "traceback": [
      "\u001b[31m---------------------------------------------------------------------------\u001b[39m",
      "\u001b[31mNameError\u001b[39m                                 Traceback (most recent call last)",
      "\u001b[36mCell\u001b[39m\u001b[36m \u001b[39m\u001b[32mIn[8]\u001b[39m\u001b[32m, line 2\u001b[39m\n\u001b[32m      1\u001b[39m small_database={\n\u001b[32m----> \u001b[39m\u001b[32m2\u001b[39m     \u001b[43madmin\u001b[49m : {\u001b[33m\"\u001b[39m\u001b[33musername\u001b[39m\u001b[33m\"\u001b[39m: \u001b[33m\"\u001b[39m\u001b[33madmin\u001b[39m\u001b[33m\"\u001b[39m,\u001b[33m\"\u001b[39m\u001b[33mpassword\u001b[39m\u001b[33m\"\u001b[39m: \u001b[33m\"\u001b[39m\u001b[33madmin\u001b[39m\u001b[33m\"\u001b[39m, \u001b[33m\"\u001b[39m\u001b[33mphone_number\u001b[39m\u001b[33m\"\u001b[39m:\u001b[32m998940441200\u001b[39m}\n\u001b[32m      3\u001b[39m     }\n\u001b[32m      4\u001b[39m \u001b[38;5;28;01mdef\u001b[39;00m \u001b[34msmall_login\u001b[39m():\n\u001b[32m      5\u001b[39m     \u001b[38;5;28;01mimport\u001b[39;00m \u001b[34;01mpyinputplus\u001b[39;00m \u001b[38;5;28;01mas\u001b[39;00m \u001b[34;01mpyip\u001b[39;00m\n",
      "\u001b[31mNameError\u001b[39m: name 'admin' is not defined"
     ]
    }
   ],
   "source": [
    "# small_database={\n",
    "#     admin : {\"username\": \"admin\",\"password\": \"admin\", \"phone_number\":998940441200}\n",
    "#     }\n",
    "# def small_login():\n",
    "#     import pyinputplus as pyip\n",
    "#     print(\"username\")\n",
    "#     login_username = pyip.inputStr()\n",
    "#     print(\"password\")\n",
    "#     login_password = pyip.inputStr()\n",
    "#     if login_username in small_database.keys():\n",
    "#         print(\"valid username\")\n",
    "# small_login()\n"
   ]
  },
  {
   "cell_type": "code",
   "execution_count": null,
   "id": "25220dd4",
   "metadata": {},
   "outputs": [],
   "source": [
    "# def register():\n",
    "#     global small_database\n",
    "#     import pyinputplus as pyip\n",
    "#     while True:\n",
    "#         print(\"---------Registration------------\")\n",
    "#         print(\"username:\")\n",
    "#         username = pyip.inputStr(limit=2, default=\"N/A\")\n",
    "#         print(\"phone number\")\n",
    "#         phoneNumber = pyip.inputNum(limit=2 , default=\"N/A\")\n",
    "#         print(\"password\")\n",
    "#         password = pyip.inputStr(limit=2, default=\"N/A\")\n",
    "#         if username and phoneNumber and password:\n",
    "#             small_database[username] = {\"username\":username, \"phone_number\": phoneNumber, \"password\":password}\n",
    "#             print(\"your account is successfully saved\")\n",
    "#             login()\n",
    "#             break\n",
    "#         else:\n",
    "#             print(\"are you sure that you are not a robot | make sure and try again\")\n",
    "#             continue"
   ]
  },
  {
   "cell_type": "code",
   "execution_count": null,
   "id": "fcdd3c65",
   "metadata": {},
   "outputs": [
    {
     "name": "stdout",
     "output_type": "stream",
     "text": [
      "name\n"
     ]
    }
   ],
   "source": [
    "# import pyinputplus as pyip\n",
    "# name = pyip.inputStr()\n",
    "# print(name)"
   ]
  },
  {
   "cell_type": "code",
   "execution_count": null,
   "id": "58875316",
   "metadata": {},
   "outputs": [],
   "source": []
  }
 ],
 "metadata": {
  "kernelspec": {
   "display_name": "base",
   "language": "python",
   "name": "python3"
  },
  "language_info": {
   "codemirror_mode": {
    "name": "ipython",
    "version": 3
   },
   "file_extension": ".py",
   "mimetype": "text/x-python",
   "name": "python",
   "nbconvert_exporter": "python",
   "pygments_lexer": "ipython3",
   "version": "3.12.9"
  }
 },
 "nbformat": 4,
 "nbformat_minor": 5
}
