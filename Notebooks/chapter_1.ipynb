{
 "cells": [
  {
   "cell_type": "markdown",
   "id": "3d065b82",
   "metadata": {},
   "source": [
    "# Math operators"
   ]
  },
  {
   "cell_type": "code",
   "execution_count": null,
   "id": "00aee461",
   "metadata": {},
   "outputs": [],
   "source": [
    "Number1 = 0\n",
    "opr = 0\n",
    "Number2 = 0\n",
    "Result = 0\n",
    "def data(a,opr,b,c):\n",
    "    a = input(\"what is the first number\")\n",
    "    b = input(\"what is second number\")\n",
    "    opr = input(\"what is he operator?\")\n",
    "    c = 0"
   ]
  },
  {
   "cell_type": "markdown",
   "id": "14c59b2c",
   "metadata": {},
   "source": [
    "# math exprations"
   ]
  },
  {
   "cell_type": "code",
   "execution_count": null,
   "id": "b2f53d5c",
   "metadata": {},
   "outputs": [
    {
     "name": "stdout",
     "output_type": "stream",
     "text": [
      "Hi user wellcome to my stupid CALC\n",
      "If you want the calc use your name instead of <user> press 1 and than enter if not 0 is your option\n"
     ]
    }
   ],
   "source": [
    "import math\n",
    "def sayHello():\n",
    "    user = \"user\"\n",
    "    print(f\"Hi {user} welcome to my stupid CALC\")\n",
    "    print(\"If you want the calc use your name instead of <user> press 1 and than enter if not 0 is your option\")\n",
    "    username = input(\"\")\n",
    "    if username == \"1\":\n",
    "        m = input(\"What is your name or Nickname?:\")\n",
    "        user == m\n",
    "    else:\n",
    "        pass\n",
    "sayHello()"
   ]
  },
  {
   "cell_type": "code",
   "execution_count": null,
   "id": "0a44b7a8",
   "metadata": {},
   "outputs": [
    {
     "name": "stdout",
     "output_type": "stream",
     "text": [
      "result is:10\n"
     ]
    }
   ],
   "source": [
    "def add(Number1,Number2):\n",
    "    Result = Number1+Number2\n",
    "    print(f\"result is:{Result}\")\n",
    "\n",
    "add(Number1,Number2)"
   ]
  },
  {
   "cell_type": "code",
   "execution_count": null,
   "id": "ed8b78e8",
   "metadata": {},
   "outputs": [
    {
     "name": "stdout",
     "output_type": "stream",
     "text": [
      "result is:6\n"
     ]
    }
   ],
   "source": [
    "def Subtract(Number1,Number2):\n",
    "    c = Number1-Number2\n",
    "    print(f\"result is:{Result}\")\n",
    "Subtract(Number1,Number2)"
   ]
  },
  {
   "cell_type": "code",
   "execution_count": null,
   "id": "c0b77a68",
   "metadata": {},
   "outputs": [
    {
     "name": "stdout",
     "output_type": "stream",
     "text": [
      "result is:4.0\n"
     ]
    }
   ],
   "source": [
    "def division(a,b):\n",
    "    c = a / b\n",
    "    print(f\"result is:{c}\")\n",
    "division(a,b)"
   ]
  },
  {
   "cell_type": "code",
   "execution_count": null,
   "id": "d003aef8",
   "metadata": {},
   "outputs": [
    {
     "name": "stdout",
     "output_type": "stream",
     "text": [
      "result is:16\n"
     ]
    }
   ],
   "source": [
    "def multiplication(Number1,Number2):\n",
    "    Result= Number1*Number2\n",
    "    print(f\"result is:{Result}\")\n",
    "multiplication(Number1,Number2)"
   ]
  },
  {
   "cell_type": "code",
   "execution_count": null,
   "id": "1cb5f401",
   "metadata": {},
   "outputs": [],
   "source": []
  }
 ],
 "metadata": {
  "kernelspec": {
   "display_name": "base",
   "language": "python",
   "name": "python3"
  },
  "language_info": {
   "codemirror_mode": {
    "name": "ipython",
    "version": 3
   },
   "file_extension": ".py",
   "mimetype": "text/x-python",
   "name": "python",
   "nbconvert_exporter": "python",
   "pygments_lexer": "ipython3",
   "version": "3.12.9"
  }
 },
 "nbformat": 4,
 "nbformat_minor": 5
}
