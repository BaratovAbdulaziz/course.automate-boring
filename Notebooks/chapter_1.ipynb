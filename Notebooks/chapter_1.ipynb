{
 "cells": [
  {
   "cell_type": "markdown",
   "id": "3d065b82",
   "metadata": {},
   "source": [
    "# Chapter-1 Math operators"
   ]
  },
  {
   "cell_type": "code",
   "execution_count": 1,
   "id": "00aee461",
   "metadata": {},
   "outputs": [
    {
     "name": "stdout",
     "output_type": "stream",
     "text": [
      "result is: 10.0\n"
     ]
    }
   ],
   "source": [
    "def main():\n",
    "    # Calculator functions\n",
    "\n",
    "    def add(num1, num2):\n",
    "        result = num1 + num2\n",
    "        print(f\"result is: {result}\")\n",
    "\n",
    "    def subtract(num1, num2):\n",
    "        result = num1 - num2\n",
    "        print(f\"result is: {result}\")\n",
    "\n",
    "    def multiplication(num1, num2):\n",
    "        result = num1 * num2\n",
    "        print(f\"result is: {result}\")\n",
    "\n",
    "    def division(num1, num2):\n",
    "        if num2 == 0:\n",
    "            print(\"Error: Division by zero!\")\n",
    "        else:\n",
    "            result = num1 / num2\n",
    "            print(f\"result is: {result}\")\n",
    "\n",
    "    # Main program\n",
    "    num1 = float(input(\"Enter first number: \"))\n",
    "    num2 = float(input(\"Enter second number: \"))\n",
    "    operator = input(\"Enter operator (+, -, *, /): \")\n",
    "\n",
    "    if operator == \"+\":\n",
    "        add(num1, num2)\n",
    "    elif operator == \"-\":\n",
    "        subtract(num1, num2)\n",
    "    elif operator == \"*\":\n",
    "        multiplication(num1, num2)\n",
    "    elif operator == \"/\":\n",
    "        division(num1, num2)\n",
    "    else:\n",
    "        print(\"Invalid operator\")\n",
    "if __name__ == \"__main__\":\n",
    "    main()"
   ]
  },
  {
   "cell_type": "markdown",
   "id": "563289ef",
   "metadata": {},
   "source": [
    "# def------------------------> is for defining and making a functions in a project or package\n",
    "# def main()-----------------> is required because it makes the code more organized\n",
    "# print----------------------> to show or execute some info (often used to debug)\n",
    "# if / elif / else ----------> it helps to put conditions\n",
    "# random name and \"=\"--------> it makes  aa new variable\n",
    "# if __name__=main: ----------> ensure that we are using an original file (useful to be more organized)\n",
    "#\n",
    "#\n",
    "#\n",
    "# EROR\n",
    "# 45 = 45 --> variables can not start with numbers\n",
    "# SyntaxError: cannot assign to literal here. Maybe you meant '==' instead of '='?"
   ]
  },
  {
   "cell_type": "markdown",
   "id": "92cd1cea",
   "metadata": {},
   "source": [
    "# "
   ]
  }
 ],
 "metadata": {
  "kernelspec": {
   "display_name": "base",
   "language": "python",
   "name": "python3"
  },
  "language_info": {
   "codemirror_mode": {
    "name": "ipython",
    "version": 3
   },
   "file_extension": ".py",
   "mimetype": "text/x-python",
   "name": "python",
   "nbconvert_exporter": "python",
   "pygments_lexer": "ipython3",
   "version": "3.13.2"
  }
 },
 "nbformat": 4,
 "nbformat_minor": 5
}
