{
 "cells": [
  {
   "cell_type": "markdown",
   "id": "72abab11",
   "metadata": {},
   "source": [
    "<h1 align=\"center\" style=\"color:green;\">Learning About Lists</h1>"
   ]
  },
  {
   "cell_type": "code",
   "execution_count": null,
   "id": "e33494f1",
   "metadata": {},
   "outputs": [],
   "source": [
    "# guesses = []\n",
    "# def number_guessing_game():\n",
    "#     import random, os, time, sys\n",
    "#     os.system('clear')\n",
    "#     print(\"Welcome to the Number Guessing Game!\")\n",
    "#     for attempt in range(1, 5):\n",
    "#         print(\"You have\", 5 - attempt, \"tries left.\")\n",
    "#         target_number = random.randint(1, 25)\n",
    "#         user_guess = int(input(\"Guess a number between 1 and 25: \"))\n",
    "#         guesses.append(user_guess)\n",
    "#         if user_guess == target_number:\n",
    "#             print(\"Congratulations! You guessed the number!\")\n",
    "#             print(\"Your guesses so far:\", guesses)\n",
    "#             break\n",
    "#         elif user_guess < target_number:\n",
    "#             print(\"Your guess is too low.\")\n",
    "#             print(\"Your guesses so far:\", guesses)\n",
    "#         elif user_guess > target_number:\n",
    "#             print(\"Your guess is too high.\")\n",
    "#             print(\"Your guesses so far:\", guesses)\n",
    "#         if attempt == 5:\n",
    "#             print(\"Sorry, you've used all your tries. The number was\", target_number)\n",
    "#             print(\"Your guesses were:\", guesses)\n",
    "#             sys.exit()\n",
    "#     print(\"Would you like to play again? (yes/no)\")\n",
    "#     while True:\n",
    "#         play_again_response = input().lower()\n",
    "#         if play_again_response == 'yes':\n",
    "#             number_guessing_game()\n",
    "#         elif play_again_response == 'no':\n",
    "#             print(\"Thanks for playing!\")\n",
    "#             break\n",
    "#         time.sleep(1)\n",
    "#         os.system('clear')\n",
    "# number_guessing_game()\n"
   ]
  },
  {
   "cell_type": "code",
   "execution_count": null,
   "id": "2ce4707a",
   "metadata": {},
   "outputs": [],
   "source": [
    "# cat_names = []\n",
    "# while True:\n",
    "#     print(\"Welcome to the Cat Name Collector\")\n",
    "#     user_input = input(\"Please enter a cat name: \")\n",
    "#     cat_names.append(user_input)\n",
    "#     print(\"You have entered a name.\")\n",
    "\n",
    "#     if user_input == \"\":\n",
    "#         for name in cat_names:\n",
    "#             print(f\"Cat names are: \\n{name}\")\n",
    "#         break"
   ]
  },
  {
   "cell_type": "code",
   "execution_count": null,
   "id": "08a598a8",
   "metadata": {},
   "outputs": [],
   "source": [
    "# long_name_list = [\n",
    "#     \"Alice\", \"Bob\", \"Charlie\", \"David\", \"Eve\", \"Frank\", \"Grace\", \"Hannah\", \"Ivy\", \"Jack\",\n",
    "#     \"Karen\", \"Liam\", \"Mia\", \"Noah\", \"Olivia\", \"Paul\", \"Quinn\", \"Rachel\", \"Sophia\", \"Tom\",\n",
    "#     \"Uma\", \"Victor\", \"Wendy\", \"Bander\", \"Yama\", \"Zane\", \"Aaron\", \"Bella\", \"Carter\", \"Diana\",\n",
    "#     \"Ethan\", \"Fiona\", \"George\", \"Hazel\", \"Isaac\", \"Julia\", \"Kevin\", \"Laura\", \"Mason\", \"Nina\",\n",
    "#     \"Oscar\", \"Penny\", \"Quincy\", \"Ruby\", \"Samuel\", \"Tina\", \"Ursula\", \"Violet\", \"Walter\", \"Xenia\",\n",
    "#     \"Yvonne\", \"Zachary\"\n",
    "# ]\n",
    "# for index in range(len(long_name_list)):\n",
    "#     print(\"Index:\" + str(index) + \"   \" + long_name_list[index])"
   ]
  },
  {
   "cell_type": "markdown",
   "id": "492f4f7f",
   "metadata": {},
   "source": []
  },
  {
   "cell_type": "markdown",
   "id": "73654868",
   "metadata": {},
   "source": [
    "<hr>"
   ]
  },
  {
   "cell_type": "code",
   "execution_count": null,
   "id": "87349333",
   "metadata": {},
   "outputs": [],
   "source": [
    "# def number_game():\n",
    "#     import math, random\n",
    "#     pi_value = math.pi\n",
    "#     print(\"Random number between 0 and π:\")\n",
    "#     random_value = random.uniform(0.0, pi_value)\n",
    "#     print(random_value)\n",
    "# while random_value != 2.0:\n",
    "#     number_game()"
   ]
  },
  {
   "cell_type": "code",
   "execution_count": null,
   "id": "7fe69c10",
   "metadata": {},
   "outputs": [],
   "source": [
    "# counter = 0\n",
    "# random_numbers = []\n",
    "\n",
    "# def generate_random_number():\n",
    "#     import random\n",
    "#     random_number = random.randint(1, 100)\n",
    "#     random_numbers.append(random_number)\n",
    "\n",
    "# while counter != 999:\n",
    "#     generate_random_number()\n",
    "\n",
    "# print(\"The generated random numbers are: \", random_numbers)"
   ]
  },
  {
   "cell_type": "code",
   "execution_count": 20,
   "id": "a79b322f",
   "metadata": {},
   "outputs": [
    {
     "data": {
      "text/plain": [
       "True"
      ]
     },
     "execution_count": 20,
     "metadata": {},
     "output_type": "execute_result"
    }
   ],
   "source": [
    "long_word_list = [\"apple\", \"banana\", \"cherry\", \"date\", \"elderberry\", \"fig\", \"grape\", \"honeydew\",\n",
    "    \"kiwi\", \"lemon\", \"mango\", \"nectarine\", \"orange\", \"papaya\", \"quince\", \"raspberry\",\n",
    "    \"strawberry\", \"tangerine\", \"ugli\", \"vanilla\", \"watermelon\", \"xigua\", \"yam\", \"zucchini\"]\n",
    "\"apple\" in long_word_list"
   ]
  },
  {
   "cell_type": "code",
   "execution_count": 21,
   "id": "f55d8565",
   "metadata": {},
   "outputs": [],
   "source": [
    "# long_word_list.index(\"kiwi\")"
   ]
  },
  {
   "cell_type": "code",
   "execution_count": 22,
   "id": "b5ab85c9",
   "metadata": {},
   "outputs": [],
   "source": [
    "# long_word_list.insert(3, \"wiki\")\n",
    "# print(long_word_list)"
   ]
  },
  {
   "cell_type": "code",
   "execution_count": 23,
   "id": "0e6c6cd1",
   "metadata": {},
   "outputs": [],
   "source": [
    "    # number_base = [\n",
    "    #     12, 45, 78, 23, 56, 89, 34, 67, 90, 21, 54, 87, 32, 65, 98, 41, 74, 17, 50, 83, \n",
    "    #     26, 59, 92, 39, 72, 15, 48, 81, 24, 57, 80, 33, 66, 99, 42, 75, 18, 51, 84, 27, \n",
    "    #     60, 93, 36, 69, 12, 45, 78, 23, 56, 89, 34, 67, 90, 21, 54, 87, 32, 65, 98, 41, \n",
    "    #     74, 17, 50, 83, 26, 59, 92, 39, 72, 15, 48, 81, 24, 57, 80, 33, 66, 99, 42, 75, \n",
    "    #     18, 51, 84, 27, 60, 93, 36, 69, 12, 45, 78, 23, 56, 89, 34, 67, 90, 21, 54, 87, \n",
    "    #     32, 65, 98, 41, 74, 17, 50, 83, 26, 59, 92, 39, 72, 15, 48, 81, 24, 57, 80, 33, \n",
    "    #     66, 99, 42, 75, 18, 51, 84, 27, 60, 93, 36, 69\n",
    "    # ]\n",
    "    # number_base.sort(reverse=True)\n",
    "    # print(number_base)\n",
    "    # # number_base.sort()"
   ]
  },
  {
   "cell_type": "markdown",
   "id": "643b460e",
   "metadata": {},
   "source": [
    "<span style=\"color:red; font-size:100px;\">Read more</span>"
   ]
  },
  {
   "cell_type": "markdown",
   "id": "7b500105",
   "metadata": {},
   "source": []
  },
  {
   "cell_type": "code",
   "execution_count": 24,
   "id": "d786531a",
   "metadata": {},
   "outputs": [],
   "source": [
    "# name = input(\"Enter your name: \").upper()\n",
    "# for i in name:\n",
    "#     print(\"*\"*3 + \"  \"+ i + \"  \" + \"*\"*3)"
   ]
  },
  {
   "cell_type": "code",
   "execution_count": null,
   "id": "6e271516",
   "metadata": {},
   "outputs": [],
   "source": [
    "# fruits_list = [\"apple\", \"banana\", \"cherry\", \"date\", \"elderberry\", \"fig\", \"grape\", \"honeydew\",\n",
    "#     \"kiwi\", \"lemon\", \"mango\", \"nectarine\", \"orange\", \"papaya\", \"quince\", \"raspberry\",\n",
    "#     \"strawberry\", \"tangerine\", \"ugli\", \"vanilla\", \"watermelon\", \"xigua\", \"yam\", \"zucchini\"]\n",
    "# print(id(fruits_list)) # output:137692814882240\n",
    "# fruits_list.remove(\"banana\")\n",
    "# print(id(fruits_list)) # output:137692814882240\n",
    "# fruits_list.append(\"banana\")\n",
    "# print(id(fruits_list)) # output:137692814882240"
   ]
  },
  {
   "cell_type": "code",
   "execution_count": null,
   "id": "18018b22",
   "metadata": {},
   "outputs": [],
   "source": [
    "# original_string = \"Mainly\"\n",
    "# print(id(original_string)) # output: 137692814712944\n",
    "# updated_string = original_string + \"_ME\"\n",
    "# print(id(updated_string)) # output: 137692814875056"
   ]
  },
  {
   "cell_type": "code",
   "execution_count": null,
   "id": "5f4841aa",
   "metadata": {},
   "outputs": [],
   "source": [
    "# string_value = \"hello\"\n",
    "# string_value[1:3]  # output: 'el'\n",
    "# Strings are immutable\n",
    "# string_value.append(\"world\") \n",
    "# output:---------------------------------------------------------------------------\n",
    "# AttributeError                            Traceback (most recent call last)\n",
    "# Cell In[9], line 4\n",
    "#       2 string_value[1:3]  # output: 'el'\n",
    "#       3 # Strings are immutable\n",
    "# ----> 4 string_value.append(\"world\")\n",
    "\n",
    "# AttributeError: 'str' object has no attribute 'append'"
   ]
  },
  {
   "cell_type": "code",
   "execution_count": null,
   "id": "859acdab",
   "metadata": {},
   "outputs": [],
   "source": [
    "# sample_tuple = (\"hello\", \"world\", 12, 55, 4.5, True)\n",
    "# type(sample_tuple) # output: tuple\n",
    "# # Tuples are immutable\n",
    "# # They are similar to lists but cannot be modified"
   ]
  },
  {
   "cell_type": "code",
   "execution_count": null,
   "id": "b1a66112",
   "metadata": {},
   "outputs": [],
   "source": [
    "# immutable_tuple = (1, 2, 3, 4, 5)\n",
    "# id(immutable_tuple) # output: 137692791418336\n",
    "# immutable_tuple[4] = 6\n",
    "# output:---------------------------------------------------------------------------\n",
    "# TypeError                                 Traceback (most recent call last)\n",
    "# Cell In[14], line 3\n",
    "#       1 immutable_tuple = (1, 2, 3, 4, 5)\n",
    "#       2 id(immutable_tuple) # output: 137692791418336\n",
    "# ----> 3 immutable_tuple[4] = 6\n",
    "\n",
    "# TypeError: 'tuple' object does not support item assignment"
   ]
  },
  {
   "cell_type": "code",
   "execution_count": null,
   "id": "19e76738",
   "metadata": {},
   "outputs": [
    {
     "name": "stdout",
     "output_type": "stream",
     "text": [
      "['Good', 'Try to be better', 'do your best', 'bad']\n"
     ]
    }
   ],
   "source": [
    "def update_feedback(scores):\n",
    "    if 5 in scores:\n",
    "        scores.remove(5)\n",
    "        scores.append(\"Excellent\")\n",
    "    elif 4 in scores:\n",
    "        scores.remove(4)\n",
    "        scores.append(\"Good, but can improve\")\n",
    "    elif 3 in scores:\n",
    "        scores.remove(3)\n",
    "        scores.append(\"Needs more effort\")\n",
    "    elif 2 in scores:\n",
    "        scores.remove(2)\n",
    "        scores.append(\"Poor\")\n",
    "        \n",
    "ratings = [4, 5, 3, 2]\n",
    "for _ in range(len(ratings)):\n",
    "    update_feedback(ratings)\n",
    "print(ratings)"
   ]
  },
  {
   "cell_type": "code",
   "execution_count": null,
   "id": "d39cd0e4",
   "metadata": {},
   "outputs": [],
   "source": []
  }
 ],
 "metadata": {
  "kernelspec": {
   "display_name": "base",
   "language": "python",
   "name": "python3"
  },
  "language_info": {
   "codemirror_mode": {
    "name": "ipython",
    "version": 3
   },
   "file_extension": ".py",
   "mimetype": "text/x-python",
   "name": "python",
   "nbconvert_exporter": "python",
   "pygments_lexer": "ipython3",
   "version": "3.12.9"
  }
 },
 "nbformat": 4,
 "nbformat_minor": 5
}
