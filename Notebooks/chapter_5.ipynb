{
 "cells": [
  {
   "cell_type": "markdown",
   "id": "72abab11",
   "metadata": {},
   "source": [
    "# Learning About Lists\n",
    "<h1 align=\"center\">Automate the boring stuff</h1>"
   ]
  },
  {
   "cell_type": "code",
   "execution_count": 15,
   "id": "e33494f1",
   "metadata": {},
   "outputs": [],
   "source": [
    "# spam = []\n",
    "# def number_guessing_game():\n",
    "#     import random,os,time,sys\n",
    "#     os.system('clear')\n",
    "#     print(\"Welcome to the Number Guessing Game!\")\n",
    "#     for i in range(1, 5):\n",
    "#         print(\"You have\", 5 - i, \"tries left.\")\n",
    "#         a = random.randint(1, 25)\n",
    "#         b= int(input(\"Guess a number between 1 and 25: \"))\n",
    "#         spam.append(b)\n",
    "#         if b== a:\n",
    "#             print(\"Congratulations! You guessed the number!\")\n",
    "#             print(\"Your guesses so far:\", spam)\n",
    "#             break\n",
    "#         elif b < a:\n",
    "#             print(\"Your guess is too low.\")\n",
    "#             print(\"Your guesses so far:\", spam)\n",
    "#         elif b > a:\n",
    "#             print(\"Your guess is too high.\")\n",
    "#             print(\"Your guesses so far:\", spam)\n",
    "#         if i == 5:\n",
    "#             print(\"Sorry, you've used all your tries. The number was\", a)\n",
    "#             print(\"Your guesses were:\", spam)\n",
    "#             sys.exit()\n",
    "#     print(\"Would you like to play again? (yes/no)\")\n",
    "#     while True:\n",
    "#         play_again = input().lower()\n",
    "#         if play_again == 'yes':\n",
    "#             number_guessing_game()\n",
    "#         elif play_again == 'no':\n",
    "#             print(\"Thanks for playing!\")\n",
    "#             break\n",
    "#         time.sleep(1)\n",
    "#         os.system('clear')\n",
    "# number_guessing_game()\n"
   ]
  },
  {
   "cell_type": "code",
   "execution_count": 16,
   "id": "2ce4707a",
   "metadata": {},
   "outputs": [],
   "source": [
    "# Catnames = []\n",
    "# while True:\n",
    "#     print(\"welcome to the cat name collector\")\n",
    "#     user_input = input(\"Please enter a cat name: \")\n",
    "#     Catnames.append(user_input)\n",
    "#     print(\"You have entered\")\n",
    "\n",
    "#     if user_input == \"\":\n",
    "#         for i in Catnames:\n",
    "#             print(f\"cat names are: \\n{i}\")\n",
    "#         break"
   ]
  },
  {
   "cell_type": "code",
   "execution_count": 17,
   "id": "08a598a8",
   "metadata": {},
   "outputs": [],
   "source": [
    "# long_name_list = [\n",
    "#     \"Alice\", \"Bob\", \"Charlie\", \"David\", \"Eve\", \"Frank\", \"Grace\", \"Hannah\", \"Ivy\", \"Jack\",\n",
    "#     \"Karen\", \"Liam\", \"Mia\", \"Noah\", \"Olivia\", \"Paul\", \"Quinn\", \"Rachel\", \"Sophia\", \"Tom\",\n",
    "#     \"Uma\", \"Victor\", \"Wendy\", \"Xander\", \"Yara\", \"Zane\", \"Aaron\", \"Bella\", \"Carter\", \"Diana\",\n",
    "#     \"Ethan\", \"Fiona\", \"George\", \"Hazel\", \"Isaac\", \"Julia\", \"Kevin\", \"Laura\", \"Mason\", \"Nina\",\n",
    "#     \"Oscar\", \"Penny\", \"Quincy\", \"Ruby\", \"Samuel\", \"Tina\", \"Ursula\", \"Violet\", \"Walter\", \"Xenia\",\n",
    "#     \"Yvonne\", \"Zachary\"\n",
    "# ]\n",
    "# for name in range(len(long_name_list)):\n",
    "#     print(\"Index:\" + str(name) + \"   \" + long_name_list[name])"
   ]
  },
  {
   "cell_type": "markdown",
   "id": "492f4f7f",
   "metadata": {},
   "source": []
  },
  {
   "cell_type": "markdown",
   "id": "73654868",
   "metadata": {},
   "source": [
    "<hr>"
   ]
  },
  {
   "cell_type": "code",
   "execution_count": 18,
   "id": "87349333",
   "metadata": {},
   "outputs": [],
   "source": [
    "# def number_game():\n",
    "#     import math,random\n",
    "#     me_pi = math.pi\n",
    "#     print(\"random number between 0 and pi\")\n",
    "#     random_number = random.uniform(0.0 , me_pi)\n",
    "#     print(random_number)\n",
    "# while random_number != 2.0:\n",
    "#     number_game()"
   ]
  },
  {
   "cell_type": "code",
   "execution_count": 19,
   "id": "7fe69c10",
   "metadata": {},
   "outputs": [],
   "source": [
    "# a = 0\n",
    "# spam = []\n",
    "\n",
    "# def rest():\n",
    "#     import random\n",
    "#     me_n = random.randint(1, 100)\n",
    "#     spam.append(me_n)\n",
    "# while a != 999:\n",
    "#     rest()\n",
    "# print(\"The random numbers are: \", spam)"
   ]
  },
  {
   "cell_type": "code",
   "execution_count": 20,
   "id": "a79b322f",
   "metadata": {},
   "outputs": [
    {
     "data": {
      "text/plain": [
       "True"
      ]
     },
     "execution_count": 20,
     "metadata": {},
     "output_type": "execute_result"
    }
   ],
   "source": [
    "long_word_list = [\"apple\", \"banana\", \"cherry\", \"date\", \"elderberry\", \"fig\", \"grape\", \"honeydew\",\n",
    "    \"kiwi\", \"lemon\", \"mango\", \"nectarine\", \"orange\", \"papaya\", \"quince\", \"raspberry\",\n",
    "    \"strawberry\", \"tangerine\", \"ugli\", \"vanilla\", \"watermelon\", \"xigua\", \"yam\", \"zucchini\"]\n",
    "\"apple\" in long_word_list"
   ]
  },
  {
   "cell_type": "code",
   "execution_count": 21,
   "id": "f55d8565",
   "metadata": {},
   "outputs": [],
   "source": [
    "# long_word_list.index(\"kiwi\")"
   ]
  },
  {
   "cell_type": "code",
   "execution_count": 22,
   "id": "b5ab85c9",
   "metadata": {},
   "outputs": [],
   "source": [
    "# long_word_list.insert(3, \"wiki\")\n",
    "# print(long_word_list)"
   ]
  },
  {
   "cell_type": "code",
   "execution_count": 23,
   "id": "0e6c6cd1",
   "metadata": {},
   "outputs": [],
   "source": [
    "    # number_base = [\n",
    "    #     12, 45, 78, 23, 56, 89, 34, 67, 90, 21, 54, 87, 32, 65, 98, 41, 74, 17, 50, 83, \n",
    "    #     26, 59, 92, 39, 72, 15, 48, 81, 24, 57, 80, 33, 66, 99, 42, 75, 18, 51, 84, 27, \n",
    "    #     60, 93, 36, 69, 12, 45, 78, 23, 56, 89, 34, 67, 90, 21, 54, 87, 32, 65, 98, 41, \n",
    "    #     74, 17, 50, 83, 26, 59, 92, 39, 72, 15, 48, 81, 24, 57, 80, 33, 66, 99, 42, 75, \n",
    "    #     18, 51, 84, 27, 60, 93, 36, 69, 12, 45, 78, 23, 56, 89, 34, 67, 90, 21, 54, 87, \n",
    "    #     32, 65, 98, 41, 74, 17, 50, 83, 26, 59, 92, 39, 72, 15, 48, 81, 24, 57, 80, 33, \n",
    "    #     66, 99, 42, 75, 18, 51, 84, 27, 60, 93, 36, 69\n",
    "    # ]\n",
    "    # number_base.sort(reverse=True)\n",
    "    # print(number_base)\n",
    "    # # number_base.sort()"
   ]
  },
  {
   "cell_type": "markdown",
   "id": "643b460e",
   "metadata": {},
   "source": [
    "# do it\n",
    "<span style=\"color:red; font-size:100px;\">Read more</span>"
   ]
  },
  {
   "cell_type": "markdown",
   "id": "7b500105",
   "metadata": {},
   "source": []
  },
  {
   "cell_type": "code",
   "execution_count": 24,
   "id": "d786531a",
   "metadata": {},
   "outputs": [],
   "source": [
    "# name = input(\"Enter your name: \").upper()\n",
    "# for i in name:\n",
    "#     print(\"*\"*3 + \"  \"+ i + \"  \" + \"*\"*3)"
   ]
  },
  {
   "cell_type": "code",
   "execution_count": 25,
   "id": "6e271516",
   "metadata": {},
   "outputs": [],
   "source": [
    "# my_list = [\"apple\", \"banana\", \"cherry\", \"date\", \"elderberry\", \"fig\", \"grape\", \"honeydew\",\n",
    "#     \"kiwi\", \"lemon\", \"mango\", \"nectarine\", \"orange\", \"papaya\", \"quince\", \"raspberry\",\n",
    "#     \"strawberry\", \"tangerine\", \"ugli\", \"vanilla\", \"watermelon\", \"xigua\", \"yam\", \"zucchini\"]\n",
    "# print(id(my_list)) # output:137692814882240\n",
    "# my_list.remove(\"banana\")\n",
    "# print(id(my_list)) # output:137692814882240\n",
    "# my_list.append(\"banana\")\n",
    "# print(id(my_list)) # output:137692814882240"
   ]
  },
  {
   "cell_type": "code",
   "execution_count": 26,
   "id": "18018b22",
   "metadata": {},
   "outputs": [],
   "source": [
    "# a = \"Mainly\"\n",
    "# print(id(a)) # output: 137692814712944\n",
    "# a = a + \"_ME\"\n",
    "# print(id(a)) # output: 137692814875056"
   ]
  },
  {
   "cell_type": "code",
   "execution_count": 27,
   "id": "5f4841aa",
   "metadata": {},
   "outputs": [],
   "source": [
    "# a = \"hello\"\n",
    "# a[1:3]  # output: 'el'\n",
    "#it can not be changed\n",
    "# a.append(\"world\") \n",
    "# output:---------------------------------------------------------------------------\n",
    "# AttributeError                            Traceback (most recent call last)\n",
    "# Cell In[9], line 4\n",
    "#       2 a[1:3]  # output: 'el'\n",
    "#       3 #it can not be changed\n",
    "# ----> 4 a.append(\"world\")\n",
    "\n",
    "# AttributeError: 'str' object has no attribute 'append'"
   ]
  },
  {
   "cell_type": "code",
   "execution_count": 28,
   "id": "859acdab",
   "metadata": {},
   "outputs": [],
   "source": [
    "# new_type =(\"hello\", \"world\",12,55,4.5,True)\n",
    "# type(new_type) # output: tuple\n",
    "# #tuple can not be changed\n",
    "# # it is like a list but it is immutable"
   ]
  },
  {
   "cell_type": "code",
   "execution_count": 29,
   "id": "b1a66112",
   "metadata": {},
   "outputs": [],
   "source": [
    "# trying_to_change_tuple = (1,2,3,4,5)\n",
    "# id(trying_to_change_tuple) # output: 137692791418336\n",
    "# trying_to_change_tuple[4] = 6\n",
    "# output:---------------------------------------------------------------------------\n",
    "# TypeError                                 Traceback (most recent call last)\n",
    "# Cell In[14], line 3\n",
    "#       1 trying_to_change_tuple = (1,2,3,4,5)\n",
    "#       2 id(trying_to_change_tuple) # output: 137692791418336\n",
    "# ----> 3 trying_to_change_tuple[4] = 6\n",
    "\n",
    "# TypeError: 'tuple' object does not support item assignment"
   ]
  },
  {
   "cell_type": "code",
   "execution_count": 33,
   "id": "19e76738",
   "metadata": {},
   "outputs": [
    {
     "name": "stdout",
     "output_type": "stream",
     "text": [
      "['Good', 'Try to be better', 'do your best', 'bad']\n"
     ]
    }
   ],
   "source": [
    "def koko(argument1):\n",
    "    if 5 in argument1:\n",
    "        argument1.remove(5)\n",
    "        argument1.append(\"Good\")\n",
    "    elif 4 in argument1:\n",
    "        argument1.remove(4)\n",
    "        argument1.append(\"Try to be better\")\n",
    "    elif 3 in argument1:\n",
    "        argument1.remove(3)\n",
    "        argument1.append(\"do your best\")\n",
    "    elif 2 in argument1:\n",
    "        argument1.remove(2)\n",
    "        argument1.append(\"bad\")\n",
    "spam = [4, 5, 3, 2]\n",
    "for i in range(len(spam)):\n",
    "    koko(spam)\n",
    "print(spam)"
   ]
  },
  {
   "cell_type": "code",
   "execution_count": null,
   "id": "d39cd0e4",
   "metadata": {},
   "outputs": [],
   "source": []
  }
 ],
 "metadata": {
  "kernelspec": {
   "display_name": "base",
   "language": "python",
   "name": "python3"
  },
  "language_info": {
   "codemirror_mode": {
    "name": "ipython",
    "version": 3
   },
   "file_extension": ".py",
   "mimetype": "text/x-python",
   "name": "python",
   "nbconvert_exporter": "python",
   "pygments_lexer": "ipython3",
   "version": "3.12.9"
  }
 },
 "nbformat": 4,
 "nbformat_minor": 5
}
