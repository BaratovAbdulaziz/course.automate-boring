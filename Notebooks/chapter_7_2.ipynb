{
 "cells": [
  {
   "cell_type": "markdown",
   "id": "897ea59e",
   "metadata": {},
   "source": [
    "<h1 align=\"middle\" style=\"color:red; font-size:75px\">Regular expressions</h1>"
   ]
  },
  {
   "cell_type": "markdown",
   "id": "130b5923",
   "metadata": {},
   "source": [
    "<h1 align=\"center\" style=\"color:orange; font-size:50px;\">Examples</h1>"
   ]
  },
  {
   "cell_type": "markdown",
   "id": "258e9462",
   "metadata": {},
   "source": [
    "# Regex (Regular Expression) is a pattern used to match text.\n",
    "# module ---> re"
   ]
  },
  {
   "cell_type": "code",
   "execution_count": 5,
   "id": "667e3904",
   "metadata": {},
   "outputs": [
    {
     "name": "stdout",
     "output_type": "stream",
     "text": [
      "No match found.\n"
     ]
    }
   ],
   "source": [
    "import re\n",
    "try:\n",
    "    check = re.compile(r\"relaxed\")\n",
    "    sample = input(\"Enter a string: \")\n",
    "    checked = check.search(sample)\n",
    "    print(checked.group())\n",
    "except AttributeError:\n",
    "    print(\"No match found.\")"
   ]
  },
  {
   "cell_type": "markdown",
   "id": "0ac8e94f",
   "metadata": {},
   "source": [
    "##### | Symbol  | Meaning               | Example                       |\n",
    "##### | ------- | --------------------- | ----------------------------- |\n",
    "##### | `*`     | 0 or more times       | `lo*` matches `\"looo\"`        |\n",
    "##### | `+`     | 1 or more times       | `lo+` matches `\"looo\"`        |\n",
    "##### | `?`     | 0 or 1 time           | `lo?` matches `\"lo\"` or `\"l\"` |\n",
    "##### | `{n}`   | Exactly n times       | `\\d{3}` matches `\"123\"`       |\n",
    "##### | `{n,m}` | Between n and m times | `\\d{2,4}` matches `\"1234\"`    |\n",
    "\n",
    "\n",
    "\n",
    "\n",
    "##### | Symbol | Meaning                            | Example                       |\n",
    "##### | ------ | ---------------------------------- | ----------------------------- |\n",
    "##### | `.`    | Any character (except newline)     | `a.c` matches `\"abc\"`         |\n",
    "##### | `\\d`   | Any digit (0–9)                    | `\\d\\d` matches `\"42\"`         |\n",
    "##### | `\\w`   | Word character (a–z, A–Z, 0–9, \\_) | `\\w+` matches `\"hello_1\"`     |\n",
    "##### | `\\s`   | Whitespace (space, tab, newline)   | `\\s` matches `\" \"`            |\n",
    "##### | `^`    | Start of string                    | `^Hello` matches `\"Hello\"`    |\n",
    "##### | `$`    | End of string                      | `world$` matches `\"hi world\"` |\n"
   ]
  },
  {
   "cell_type": "markdown",
   "id": "fdb1d2fc",
   "metadata": {
    "vscode": {
     "languageId": "sql"
    }
   },
   "source": [
    "<h1 align=\"center\" style=\"color:green; font-size:75px\">🔹 Task 1: Match a word<h1>\n",
    "\n",
    "# Goal: Check if the word \"hello\" exists in the user’s input.\n",
    "# 📌 Instructions:\n",
    "\n",
    "# Ask the user to input a sentence.\n",
    "\n",
    "# Use re.search() with a pattern to check if \"hello\" is present.\n",
    "\n",
    "# Print \"Found\" or \"Not found\".\n",
    "\n",
    "# Let me know once you complete it, and I’ll give you the next one."
   ]
  },
  {
   "cell_type": "code",
   "execution_count": 6,
   "id": "4f6b1814",
   "metadata": {},
   "outputs": [
    {
     "name": "stdout",
     "output_type": "stream",
     "text": [
      "found!\n"
     ]
    }
   ],
   "source": [
    "import re\n",
    "match_word = re.compile(r\"hello\")\n",
    "user_input = input(\"Enter a string: \")\n",
    "if match_word.search(user_input):\n",
    "    print(\"found!\")\n",
    "else:\n",
    "    print(\"not found!\")"
   ]
  },
  {
   "cell_type": "markdown",
   "id": "d308c67b",
   "metadata": {},
   "source": [
    "# 🔹 Task 2: Match digits only\n",
    "# Goal: Check if the user’s input is only made of digits (e.g., \"123456\").\n",
    "# \n",
    "# 📌 Instructions:\n",
    "# \n",
    "# Ask for user input.\n",
    "# \n",
    "# Use re.fullmatch() and a digit pattern to verify if the whole string is just numbers.\n",
    "# \n",
    "# Print \"All digits\" or \"Contains non-digit characters\"."
   ]
  },
  {
   "cell_type": "code",
   "execution_count": 11,
   "id": "88196720",
   "metadata": {},
   "outputs": [
    {
     "name": "stdout",
     "output_type": "stream",
     "text": [
      "Full match found!\n"
     ]
    }
   ],
   "source": [
    "import re\n",
    "user_input_check = input(\"Enter: \")\n",
    "\n",
    "checking_full_match = re.fullmatch(r\"\\d{3}.+\",f\"{user_input_check}\")\n",
    "if checking_full_match:\n",
    "    print(\"Full match found!\")\n",
    "else:\n",
    "    print(\"No full match found.\")"
   ]
  },
  {
   "cell_type": "markdown",
   "id": "e4812a2e",
   "metadata": {},
   "source": [
    "# Task:\n",
    "# Write a program that asks for an email input and checks if it matches this pattern:\n",
    "# \n",
    "# Starts with letters, digits, dots, or underscores\n",
    "# \n",
    "# Then an @ sign\n",
    "# \n",
    "# Then letters or digits\n",
    "# \n",
    "# Then a dot .\n",
    "# \n",
    "# Ends with 2 to 4 letters (like .com, .org)\n",
    "# \n",
    "# Print \"Valid email\" or \"Invalid email\"."
   ]
  },
  {
   "cell_type": "code",
   "execution_count": null,
   "id": "e9a75416",
   "metadata": {},
   "outputs": [
    {
     "name": "stdout",
     "output_type": "stream",
     "text": [
      "\n"
     ]
    }
   ],
   "source": [
    "import re\n",
    "def main():\n",
    "    email_template= re.compile(r\"\\w+@\\w+\\.\\w+\")\n",
    "    user_input = input(\"Enter an email address: \").lower()\n",
    "    answer = email_template.findall(user_input)\n",
    "    separator = \"\".join(answer)\n",
    "    print(separator)\n",
    "if __name__ == \"__main__\":\n",
    "    main()"
   ]
  },
  {
   "cell_type": "code",
   "execution_count": 15,
   "id": "5ca9dbfa",
   "metadata": {},
   "outputs": [],
   "source": [
    "# #\"()*\" the same as before but it can find if certain part is repeating\n",
    "# import re\n",
    "# relax = re.compile(r\"sh(u)*t up\")\n",
    "# mo =relax.search(\"shuuuuuuuuuuuuuuuuuuuuuuuuuuuuuuuuuuuuuuuuuuuuuuuuuuuuuuuuuuuuuuuuuuuuuuut up freaking game\")\n",
    "# print(mo.group())"
   ]
  },
  {
   "cell_type": "code",
   "execution_count": null,
   "id": "ce9525a4",
   "metadata": {},
   "outputs": [
    {
     "name": "stdout",
     "output_type": "stream",
     "text": [
      "sun sun sun \n"
     ]
    }
   ],
   "source": [
    "# #\"(){specific number}\"\n",
    "# import re\n",
    "# relax = re.compile(r\"(sun ){3}\")\n",
    "# me = relax.search(r'''The sun sun sun  was setting behind the mountains, casting a golden glow over the valley. Birds flew across the sky, and the sound of leaves rustling in the wind created a peaceful atmosphere. It was the perfect moment to reflect and enjoy the beauty of nature.\n",
    "# ''')\n",
    "# print(me.group())"
   ]
  },
  {
   "cell_type": "code",
   "execution_count": null,
   "id": "e0ebd146",
   "metadata": {},
   "outputs": [
    {
     "name": "stdout",
     "output_type": "stream",
     "text": [
      "a\n"
     ]
    }
   ],
   "source": [
    "# #syntax \"(){a,b}\" it can find specific word /letter repeated from a times up tu b times or in between\n",
    "# import re\n",
    "# con = re.compile(r'(a){0,3}')\n",
    "# mp = con.search(\"a aaa aa aaaaa aaaaaaa \")\n",
    "# print(mp.group())"
   ]
  },
  {
   "cell_type": "code",
   "execution_count": null,
   "id": "4fcf636a",
   "metadata": {},
   "outputs": [
    {
     "name": "stdout",
     "output_type": "stream",
     "text": [
      "A1223\n"
     ]
    }
   ],
   "source": [
    "# # start with (r'^ searching information such as letters digits that the content should start with')\n",
    "# # end with (r'the content that should end with $')\n",
    "# #example:\n",
    "# import re\n",
    "# # sample_check = re.compile(r\"^Hello world$\")\n",
    "# # foo = sample_check.search(r\"Hello world\")\n",
    "# # print(foo.group())\n",
    "\n",
    "# #we can use \\d,\\D,\\m to find weather the content starts or ends with digits for example\n",
    "# sample_check = re.compile(r\"^A\\d+\")\n",
    "# mo = sample_check.search(r\"A1223\")\n",
    "# print(mo.group())"
   ]
  }
 ],
 "metadata": {
  "kernelspec": {
   "display_name": "base",
   "language": "python",
   "name": "python3"
  },
  "language_info": {
   "codemirror_mode": {
    "name": "ipython",
    "version": 3
   },
   "file_extension": ".py",
   "mimetype": "text/x-python",
   "name": "python",
   "nbconvert_exporter": "python",
   "pygments_lexer": "ipython3",
   "version": "3.13.2"
  }
 },
 "nbformat": 4,
 "nbformat_minor": 5
}
