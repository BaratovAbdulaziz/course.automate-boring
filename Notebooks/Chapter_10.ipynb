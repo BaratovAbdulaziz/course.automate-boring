{
 "cells": [
  {
   "cell_type": "markdown",
   "id": "3c66d01a",
   "metadata": {},
   "source": [
    "<h1 align=\"middle\" style=\"color:red;\">Organizing files</h1>"
   ]
  },
  {
   "cell_type": "markdown",
   "id": "91b6d323",
   "metadata": {},
   "source": [
    "<h1 align='center'>moving / copying files</h1>"
   ]
  },
  {
   "cell_type": "code",
   "execution_count": null,
   "id": "0e6d2e63",
   "metadata": {},
   "outputs": [
    {
     "ename": "Error",
     "evalue": "Destination path '../me.txt' already exists",
     "output_type": "error",
     "traceback": [
      "\u001b[0;31m---------------------------------------------------------------------------\u001b[0m",
      "\u001b[0;31mError\u001b[0m                                     Traceback (most recent call last)",
      "Cell \u001b[0;32mIn[2], line 5\u001b[0m\n\u001b[1;32m      3\u001b[0m make_file\u001b[38;5;241m=\u001b[39m Path(\u001b[38;5;124m\"\u001b[39m\u001b[38;5;124m./me.txt\u001b[39m\u001b[38;5;124m\"\u001b[39m)\u001b[38;5;241m.\u001b[39mopen(\u001b[38;5;124m\"\u001b[39m\u001b[38;5;124ma\u001b[39m\u001b[38;5;124m\"\u001b[39m)\n\u001b[1;32m      4\u001b[0m make_file\u001b[38;5;241m.\u001b[39mwrite(\u001b[38;5;124m\"\u001b[39m\u001b[38;5;124mhello world\u001b[39m\u001b[38;5;124m\"\u001b[39m)\n\u001b[0;32m----> 5\u001b[0m \u001b[43mshutil\u001b[49m\u001b[38;5;241;43m.\u001b[39;49m\u001b[43mmove\u001b[49m\u001b[43m(\u001b[49m\u001b[38;5;124;43m\"\u001b[39;49m\u001b[38;5;124;43m./me.txt\u001b[39;49m\u001b[38;5;124;43m\"\u001b[39;49m\u001b[43m,\u001b[49m\u001b[43m \u001b[49m\u001b[38;5;124;43m\"\u001b[39;49m\u001b[38;5;124;43m..\u001b[39;49m\u001b[38;5;124;43m\"\u001b[39;49m\u001b[43m)\u001b[49m\n\u001b[1;32m      6\u001b[0m shutil\u001b[38;5;241m.\u001b[39mcopy(\u001b[38;5;124m\"\u001b[39m\u001b[38;5;124m../me.txt\u001b[39m\u001b[38;5;124m\"\u001b[39m, \u001b[38;5;124m\"\u001b[39m\u001b[38;5;124m.\u001b[39m\u001b[38;5;124m\"\u001b[39m)\n\u001b[1;32m      7\u001b[0m make_file\u001b[38;5;241m.\u001b[39mclose()\n",
      "File \u001b[0;32m~/Work-Space/Studies/course.automate-boring/.conda/lib/python3.10/shutil.py:814\u001b[0m, in \u001b[0;36mmove\u001b[0;34m(src, dst, copy_function)\u001b[0m\n\u001b[1;32m    811\u001b[0m     real_dst \u001b[38;5;241m=\u001b[39m os\u001b[38;5;241m.\u001b[39mpath\u001b[38;5;241m.\u001b[39mjoin(dst, _basename(src))\n\u001b[1;32m    813\u001b[0m     \u001b[38;5;28;01mif\u001b[39;00m os\u001b[38;5;241m.\u001b[39mpath\u001b[38;5;241m.\u001b[39mexists(real_dst):\n\u001b[0;32m--> 814\u001b[0m         \u001b[38;5;28;01mraise\u001b[39;00m Error(\u001b[38;5;124m\"\u001b[39m\u001b[38;5;124mDestination path \u001b[39m\u001b[38;5;124m'\u001b[39m\u001b[38;5;132;01m%s\u001b[39;00m\u001b[38;5;124m'\u001b[39m\u001b[38;5;124m already exists\u001b[39m\u001b[38;5;124m\"\u001b[39m \u001b[38;5;241m%\u001b[39m real_dst)\n\u001b[1;32m    815\u001b[0m \u001b[38;5;28;01mtry\u001b[39;00m:\n\u001b[1;32m    816\u001b[0m     os\u001b[38;5;241m.\u001b[39mrename(src, real_dst)\n",
      "\u001b[0;31mError\u001b[0m: Destination path '../me.txt' already exists"
     ]
    }
   ],
   "source": [
    "# from pathlib import Path\n",
    "# import os, shutil\n",
    "# make_file= Path(\"./me.txt\").open(\"a\")\n",
    "# make_file.write(\"hello world\")\n",
    "# shutil.move(\"./me.txt\", \"..\")\n",
    "# shutil.copy(\"../me.txt\", \".\")\n",
    "# make_file.close()"
   ]
  },
  {
   "cell_type": "markdown",
   "id": "bfdb2ff5",
   "metadata": {},
   "source": [
    "<h1 align='center'>moving / copying folders</h1>"
   ]
  },
  {
   "cell_type": "code",
   "execution_count": null,
   "id": "2a83060f",
   "metadata": {},
   "outputs": [
    {
     "data": {
      "text/plain": [
       "'../modules_copy'"
      ]
     },
     "execution_count": 6,
     "metadata": {},
     "output_type": "execute_result"
    }
   ],
   "source": [
    "# import shutil\n",
    "\n",
    "# Copy the entire 'modules' folder into the parent directory as 'modules_copy'\n",
    "# shutil.copytree(\"./modules\", \"../modules_copy\") #in the second we put the path of the folder we want to copy and in the end we put file name how the coped folder will be called"
   ]
  },
  {
   "cell_type": "markdown",
   "id": "e2e28113",
   "metadata": {},
   "source": [
    "<h1 align=\"middle\"> Downloading send2trash module </h1>"
   ]
  },
  {
   "cell_type": "code",
   "execution_count": null,
   "id": "01b32372",
   "metadata": {},
   "outputs": [
    {
     "name": "stdout",
     "output_type": "stream",
     "text": [
      "Retrieving notices: done\n",
      "Channels:\n",
      " - defaults\n",
      "Platform: linux-64\n",
      "Collecting package metadata (repodata.json): done\n",
      "Solving environment: done\n",
      "\n",
      "# All requested packages already installed.\n",
      "\n"
     ]
    },
    {
     "data": {
      "text/plain": [
       "0"
      ]
     },
     "execution_count": 8,
     "metadata": {},
     "output_type": "execute_result"
    }
   ],
   "source": [
    "# import os\n",
    "# os.system(\"conda install send2trash\") "
   ]
  },
  {
   "cell_type": "code",
   "execution_count": null,
   "id": "0544e31d",
   "metadata": {},
   "outputs": [],
   "source": [
    "# import send2trash, os\n",
    "# from pathlib import Path\n",
    "# send2trash.send2trash(\"me.txt\") # this will move the file to trash\n",
    "# back up available\n",
    "# example\n",
    "# Path.cwd()\n",
    "# Path(r\"./foo\").mkdir()\n",
    "# send2trash.send2trash(r\"./foo\") # this will move the folder to trash\n",
    "# using os.unlink\n",
    "# os.unlink(r\"./foo\") # this will delete the folder\n",
    "# no back up available\n",
    "\n"
   ]
  },
  {
   "cell_type": "markdown",
   "id": "c39343fa",
   "metadata": {},
   "source": [
    "<h1 align=\"center\">renaming many files at once</h1>"
   ]
  },
  {
   "cell_type": "code",
   "execution_count": 29,
   "id": "3dbccb1c",
   "metadata": {},
   "outputs": [],
   "source": [
    "# import os\n",
    "# for filename , filedata1 , filedata2 in os.walk(\"./\"):\n",
    "#     print(f\"{filename}\\n{filedata1}\\n{filedata2}\")\n",
    "\n"
   ]
  },
  {
   "cell_type": "code",
   "execution_count": null,
   "id": "0bc96b89",
   "metadata": {},
   "outputs": [
    {
     "ename": "IsADirectoryError",
     "evalue": "[Errno 21] Is a directory: './foo'",
     "output_type": "error",
     "traceback": [
      "\u001b[0;31m---------------------------------------------------------------------------\u001b[0m",
      "\u001b[0;31mIsADirectoryError\u001b[0m                         Traceback (most recent call last)",
      "Cell \u001b[0;32mIn[4], line 2\u001b[0m\n\u001b[1;32m      1\u001b[0m \u001b[38;5;28;01mimport\u001b[39;00m\u001b[38;5;250m \u001b[39m\u001b[38;5;21;01mos\u001b[39;00m\n\u001b[0;32m----> 2\u001b[0m \u001b[43mos\u001b[49m\u001b[38;5;241;43m.\u001b[39;49m\u001b[43mremove\u001b[49m\u001b[43m(\u001b[49m\u001b[38;5;124;43mr\u001b[39;49m\u001b[38;5;124;43m\"\u001b[39;49m\u001b[38;5;124;43m./foo\u001b[39;49m\u001b[38;5;124;43m\"\u001b[39;49m\u001b[43m)\u001b[49m \u001b[38;5;66;03m# this will delete the folder\u001b[39;00m\n",
      "\u001b[0;31mIsADirectoryError\u001b[0m: [Errno 21] Is a directory: './foo'"
     ]
    }
   ],
   "source": [
    "import os,  shutil\n",
    "(r\"./foo\") # this will delete the folder\n"
   ]
  },
  {
   "cell_type": "code",
   "execution_count": null,
   "id": "9dc70c9c",
   "metadata": {},
   "outputs": [],
   "source": []
  }
 ],
 "metadata": {
  "kernelspec": {
   "display_name": "Python 3",
   "language": "python",
   "name": "python3"
  },
  "language_info": {
   "codemirror_mode": {
    "name": "ipython",
    "version": 3
   },
   "file_extension": ".py",
   "mimetype": "text/x-python",
   "name": "python",
   "nbconvert_exporter": "python",
   "pygments_lexer": "ipython3",
   "version": "3.10.16"
  }
 },
 "nbformat": 4,
 "nbformat_minor": 5
}
