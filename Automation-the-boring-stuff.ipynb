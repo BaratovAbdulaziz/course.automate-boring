{
 "cells": [
  {
   "cell_type": "markdown",
   "id": "3d065b82",
   "metadata": {},
   "source": [
    "# data"
   ]
  },
  {
   "cell_type": "code",
   "execution_count": null,
   "id": "00aee461",
   "metadata": {},
   "outputs": [],
   "source": [
    "a = 0\n",
    "opr = 0\n",
    "b = 0\n",
    "c = 0\n",
    "def data(a,opr,b,c):\n",
    "    a = input(\"what is the first figure\")\n",
    "    b = input(\"what is secound number\")\n",
    "    opr = input(\"what is he opirator?\")\n",
    "    c = 0"
   ]
  },
  {
   "cell_type": "markdown",
   "id": "14c59b2c",
   "metadata": {},
   "source": [
    "# math exprations"
   ]
  },
  {
   "cell_type": "code",
   "execution_count": 10,
   "id": "b2f53d5c",
   "metadata": {},
   "outputs": [
    {
     "name": "stdout",
     "output_type": "stream",
     "text": [
      "Hi user wellcome to my stupid CALC\n",
      "If you want the calc use your name instead of <user> press 1 and than enter if not 0 is your option\n"
     ]
    }
   ],
   "source": [
    "import math\n",
    "def sayhello():\n",
    "    user = \"user\"\n",
    "    print(f\"Hi {user} wellcome to my stupid CALC\")\n",
    "    print(\"If you want the calc use your name instead of <user> press 1 and than enter if not 0 is your option\")\n",
    "    k = input(\"\")\n",
    "    if k == \"1\":\n",
    "        m = input(\"What is your name or Nickname?:\")\n",
    "        user == m\n",
    "    else:\n",
    "        pass\n",
    "sayhello()"
   ]
  },
  {
   "cell_type": "code",
   "execution_count": 11,
   "id": "0a44b7a8",
   "metadata": {},
   "outputs": [
    {
     "name": "stdout",
     "output_type": "stream",
     "text": [
      "result is:10\n"
     ]
    }
   ],
   "source": [
    "def plus(a,b):\n",
    "    c = a+b\n",
    "    print(f\"result is:{c}\")\n",
    "\n",
    "plus(a,b)"
   ]
  },
  {
   "cell_type": "code",
   "execution_count": 12,
   "id": "ed8b78e8",
   "metadata": {},
   "outputs": [
    {
     "name": "stdout",
     "output_type": "stream",
     "text": [
      "result is:6\n"
     ]
    }
   ],
   "source": [
    "def minus(a,b):\n",
    "    c = a-b\n",
    "    print(f\"result is:{c}\")\n",
    "minus(a,b)"
   ]
  },
  {
   "cell_type": "code",
   "execution_count": 13,
   "id": "c0b77a68",
   "metadata": {},
   "outputs": [
    {
     "name": "stdout",
     "output_type": "stream",
     "text": [
      "result is:4.0\n"
     ]
    }
   ],
   "source": [
    "def devision(a,b):\n",
    "    c = a / b\n",
    "    print(f\"result is:{c}\")\n",
    "devision(a,b)"
   ]
  },
  {
   "cell_type": "code",
   "execution_count": 14,
   "id": "d003aef8",
   "metadata": {},
   "outputs": [
    {
     "name": "stdout",
     "output_type": "stream",
     "text": [
      "result is:16\n"
     ]
    }
   ],
   "source": [
    "def multiplication(a,b):\n",
    "    c= a*b\n",
    "    print(f\"result is:{c}\")\n",
    "multiplication(a,b)"
   ]
  }
 ],
 "metadata": {
  "kernelspec": {
   "display_name": "base",
   "language": "python",
   "name": "python3"
  },
  "language_info": {
   "codemirror_mode": {
    "name": "ipython",
    "version": 3
   },
   "file_extension": ".py",
   "mimetype": "text/x-python",
   "name": "python",
   "nbconvert_exporter": "python",
   "pygments_lexer": "ipython3",
   "version": "3.12.9"
  }
 },
 "nbformat": 4,
 "nbformat_minor": 5
}
