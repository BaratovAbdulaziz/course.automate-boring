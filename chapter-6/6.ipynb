{
 "cells": [
  {
   "cell_type": "markdown",
   "id": "888eb852",
   "metadata": {},
   "source": [
    "<snap style=\"color:green; font-size:50px;\">Dictionaries</snap>"
   ]
  },
  {
   "cell_type": "code",
   "execution_count": null,
   "id": "cb15c1b7",
   "metadata": {},
   "outputs": [
    {
     "name": "stdout",
     "output_type": "stream",
     "text": [
      "30 is the date of birth of Bob.\n",
      "Sorry, I don't have the birthday information for Me.\n",
      "Please enter the date of birth of Me. If you want to escape, type 'End'\n",
      "Goodbye!\n"
     ]
    }
   ],
   "source": [
    "# # no order in dicts\n",
    "# bday_dict = {\n",
    "#     'Alice': 25,\n",
    "#     'Bob': 30,\n",
    "#     'Charlie': 15,\n",
    "#     'David': 20,\n",
    "#     'Eve': 18,\n",
    "#     'Frank': 22,\n",
    "#     'Grace': 27,\n",
    "#     'Hannah': 19,\n",
    "#     'Ivy': 24,\n",
    "#     'Jack': 29,\n",
    "#     'Karen': 21,\n",
    "#     'Leo': 26\n",
    "# }\n",
    "\n",
    "# while True:\n",
    "#     name_of_person = input(\"Enter the name of the person whose birthday you want to know (or 'End' to quit): \").capitalize()\n",
    "#     if name_of_person.lower() == 'end':\n",
    "#         print(\"Goodbye!\")\n",
    "#         break\n",
    "#     if name_of_person in bday_dict:\n",
    "#         print(f\"{bday_dict[name_of_person]} is the date of birth of {name_of_person}.\")\n",
    "#     else:\n",
    "#         print(f\"Sorry, I don't have the birthday information for {name_of_person}.\")\n",
    "#         print(f\"Please enter the date of birth of {name_of_person}. If you want to escape, type 'End'\")\n",
    "#         me = input(\"\")\n",
    "#         if me.lower() == 'end':\n",
    "#             print(\"Goodbye!\")\n",
    "#             break\n",
    "#         try:\n",
    "#             bday_dict[name_of_person] = int(me)\n",
    "#             print(\"Data was added successfully to the database.\")\n",
    "#         except ValueError:\n",
    "#             print(\"Invalid input. Please enter a valid number for the date of birth.\")"
   ]
  },
  {
   "cell_type": "code",
   "execution_count": null,
   "id": "38c8cf10",
   "metadata": {},
   "outputs": [
    {
     "name": "stdout",
     "output_type": "stream",
     "text": [
      "The value for key 'b' is: 2\n",
      "The value for key 'z' is: Key not found\n"
     ]
    }
   ],
   "source": [
    "# #dictionary.get(key, default_value)\n",
    "# # Example usage of dictionary.get() method\n",
    "# # Accessing a value using the get() method\n",
    "# value = example_dict.get('b', 'Key not found')\n",
    "# print(f\"The value for key 'b' is: {value}\")\n",
    "\n",
    "# # Trying to access a non-existent key with a default value\n",
    "# non_existent_value = example_dict.get('z', 'Key not found')\n",
    "# print(f\"The value for key 'z' is: {non_existent_value}\")"
   ]
  },
  {
   "cell_type": "code",
   "execution_count": null,
   "id": "bd67bc18",
   "metadata": {},
   "outputs": [
    {
     "name": "stdout",
     "output_type": "stream",
     "text": [
      "Name ID: me, Name: 2\n",
      "Name ID: me, Name: 2\n",
      "Name ID: ruhgurhug, Name: 11\n",
      "Name ID: ruhgurhug, Name: 11\n",
      "Name ID: , Name: \n",
      "Goodbye!\n"
     ]
    }
   ],
   "source": [
    "# def get_name(name_id,name):\n",
    "#     my_dict = {}\n",
    "#     my_dict[name_id] = name\n",
    "#     print(f\"Name ID: {name_id}, Name: {name}\")\n",
    "# while True:\n",
    "#     name_id = input(\"Enter the name id: \")\n",
    "#     name = input(\"Enter the name: \")\n",
    "#     get_name(name_id,name)\n",
    "#     if name_id == '':\n",
    "#         print(\"Goodbye!\")\n",
    "#         break\n",
    "#     get_name(name_id,name)"
   ]
  },
  {
   "cell_type": "code",
   "execution_count": null,
   "id": "6b273d76",
   "metadata": {},
   "outputs": [
    {
     "data": {
      "text/plain": [
       "'Key not found'"
      ]
     },
     "execution_count": 3,
     "metadata": {},
     "output_type": "execute_result"
    }
   ],
   "source": [
    "# dict_me = {\n",
    "#     'name': 'John',\n",
    "#     'age': 30,\n",
    "#     'city': 'New York'\n",
    "# }\n",
    "# dict_me.get(\"NAN\", \"Key not found\")"
   ]
  },
  {
   "cell_type": "code",
   "execution_count": 7,
   "id": "2f069680",
   "metadata": {},
   "outputs": [],
   "source": [
    "# dict_me = {\n",
    "#     \"name\":\"Abdulaziz\",\n",
    "#     \"age\":\"19\"\n",
    "# }\n",
    "# dict_me.get(\"name\",\"Abdulaziz\")\n",
    "# dict_me.get(\"age\",\"19\")\n"
   ]
  },
  {
   "cell_type": "code",
   "execution_count": null,
   "id": "723f3af1",
   "metadata": {},
   "outputs": [
    {
     "name": "stdout",
     "output_type": "stream",
     "text": [
      "{'name': 'Abdulaziz'}\n"
     ]
    }
   ],
   "source": [
    "# spam = {}\n",
    "# spam.setdefault(\"name\", \"Abdulaziz\")\n",
    "# print(spam)\n"
   ]
  },
  {
   "cell_type": "code",
   "execution_count": null,
   "id": "2defdfb6",
   "metadata": {},
   "outputs": [
    {
     "name": "stdout",
     "output_type": "stream",
     "text": [
      "{'m': 1, 'e': 2}\n"
     ]
    }
   ],
   "source": [
    "number = 1\n",
    "messages_dict = {\n",
    "\n",
    "}\n",
    "message = input(\"\")\n",
    "for i in message:\n",
    "    messages_dict[i] = number\n",
    "    number += 1\n",
    "print(messages_dict)\n",
    "\n"
   ]
  },
  {
   "cell_type": "code",
   "execution_count": null,
   "id": "89633d5e",
   "metadata": {},
   "outputs": [],
   "source": []
  }
 ],
 "metadata": {
  "kernelspec": {
   "display_name": "base",
   "language": "python",
   "name": "python3"
  },
  "language_info": {
   "codemirror_mode": {
    "name": "ipython",
    "version": 3
   },
   "file_extension": ".py",
   "mimetype": "text/x-python",
   "name": "python",
   "nbconvert_exporter": "python",
   "pygments_lexer": "ipython3",
   "version": "3.12.9"
  }
 },
 "nbformat": 4,
 "nbformat_minor": 5
}
